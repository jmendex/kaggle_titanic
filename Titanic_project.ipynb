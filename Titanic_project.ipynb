{
 "cells": [
  {
   "cell_type": "markdown",
   "metadata": {},
   "source": [
    "#### Fundamentos Data Science I \n",
    "_Udacity Jul/2018 - Juliano M Mendes_\n",
    "\n",
    "# Projeto Titanic: Investigando uma base de dados kaggle\n",
    "\n",
    "### Visão Geral do Projeto\n",
    "\n",
    "Neste projeto, será analisado um conjunto de dados de passageiros do naufrágio do RMS Titanic e, em seguida, serão comunicadas conclusões sobre as análises realizadas. As bibliotecas utilizadas serão: NumPy, Pandas e Matplotlib.\n",
    "\n",
    "### Resumo Histórico\n",
    "O naufrágio do RMS Titanic é um dos mais notórios naufrágios da história. Em 15 de abril de 1912, durante sua viagem inaugural, o Titanic afundou depois de colidir com um iceberg, matando 1502 de 2224 passageiros e tripulantes. Esta tragédia sensacional chocou a comunidade internacional e levou a melhores normas de segurança para os navios.\n",
    "\n",
    "### Objetivo\n",
    "\n",
    "**O objetivo deste projeto será responder aos seguintes questionamentos sobre os dados:**\n",
    "\n",
    "1 - Quais foram os fatores que fizeram com que algumas pessoas mais propensas a sobreviver?  \n",
    "2 - Será que a classe mais alta teve mais chances de sobrevivência que a mais baixa?  \n",
    "3 - A proporção de sobrevivência da primeira classe foi superior em relação à segunda e a terceira classe?  \n",
    "4 - Há correlação direta entre os que sobreviveram e seus gêneros?  \n",
    "5 - Qual a proporção de sobreviventes e mortos por gênero?  \n",
    "6 - Mulheres e crianças salvaram-se primeiro?  \n",
    "7 - Há correlação direta entre o valor pago na passagem e idade?  \n",
    "8 - Quem são os passageiros que não tiveram a tarifa cobrada? Eles sobreviveram?  \n",
    "\n",
    "**Tendo como resultado de aprendizado:**\n",
    "\n",
    "- Visão ampla dos passos envolvidos em um processo de análise de dados típico;\n",
    "- Realização de questionamentos que podem ser respondidos por um conjunto de dados;\n",
    "- Capacidade de investigar problemas em um conjunto de dados e confrontrar os dados em um formato que se possa usar;\n",
    "- Adquirir prática em comunicar os resultados de sua análise;\n",
    "- Ser capaz de utilizar as operações vetorizadas no NumPy e Pandas para acelerar código de análise de dados;\n",
    "- Possuir familiaridade com objetos, séries e o banco de dados Pandas, para acesso aos dados de forma mais conveniente;\n",
    "- Saber utilizar a biblioteca Matplotlib para produzir gráficos simples e objetivos.\n",
    "\n",
    "***\n",
    "\n",
    "### Obtendo o conjunto de dados\n",
    "\n",
    "> **[Dados do Titanic](https://d17h27t6h515a5.cloudfront.net/topher/2017/October/59e4fe3d_titanic-data-6/titanic-data-6.csv)** - contém dados demográficos e informações de 891 dos 2.224 passageiros e tripulantes a bordo do Titanic. Você pode ver uma descrição deste conjunto de dados no site do [Kaggle](https://www.kaggle.com/c/titanic/data#), de onde os dados foram tirados."
   ]
  },
  {
   "cell_type": "markdown",
   "metadata": {},
   "source": [
    "## Carregando os dados com Pandas (load data)"
   ]
  },
  {
   "cell_type": "code",
   "execution_count": 351,
   "metadata": {},
   "outputs": [],
   "source": [
    "# Importando os pacotes e carregando os arquivos de titanic\n",
    "import pandas as pd\n",
    "import numpy as np\n",
    "import matplotlib.pyplot as plt\n",
    "%matplotlib inline\n",
    "\n",
    "df_titanic = pd.read_csv('titanic-data-6.csv')"
   ]
  },
  {
   "cell_type": "markdown",
   "metadata": {},
   "source": [
    "## Exploring Titanic Dataset (EDA with Visualizations)\n",
    "\n",
    "### Análise Exploratória de dados do Titanic###\n",
    "\n",
    "Nesta seção será analisado o conjunto de dados Titanic"
   ]
  },
  {
   "cell_type": "markdown",
   "metadata": {},
   "source": [
    "### Data Dictionary\n",
    "\n",
    "<table align=\"left\">\n",
    "  <tr>\n",
    "    <th>Column</th>\n",
    "    <th>Definition</th>\n",
    "    <th>Key</th>\n",
    "  </tr>\n",
    "  <tr>\n",
    "    <td>Survival</td>\n",
    "    <td>Survival</td>\n",
    "    <td>0 = No, 1 = Yes</td>\n",
    "  </tr>\n",
    "  <tr>\n",
    "    <td>Pclass</td>\n",
    "    <td>Ticket class</td>\n",
    "    <td>1 = 1st, 2 = 2nd, 3 = 3rd</td>\n",
    "  </tr>\n",
    "  <tr>\n",
    "    <td>Sex</td>\n",
    "    <td>Sex</td>\n",
    "    <td>male, famale</td>\n",
    "  </tr>\n",
    "  <tr>\n",
    "    <td>Age</td>\n",
    "    <td>Age in years</td>\n",
    "    <td></td>\n",
    "  </tr>\n",
    "  <tr>\n",
    "    <td>Sibsp</td>\n",
    "    <td># of siblings / spouses aboard the Titanic</td>\n",
    "    <td></td>\n",
    "  </tr>\n",
    "  <tr>\n",
    "    <td>Parch</td>\n",
    "    <td># of parents / children aboard the Titanic </td>\n",
    "    <td></td>\n",
    "  </tr>\n",
    "  <tr>\n",
    "    <td>Ticket</td>\n",
    "    <td>icket number</td>\n",
    "    <td></td>\n",
    "  </tr>\n",
    "  <tr>\n",
    "    <td>Fare</td>\n",
    "    <td>Passenger fare</td>\n",
    "    <td></td>\n",
    "  </tr>\n",
    "  <tr>\n",
    "    <td>Cabin</td>\n",
    "    <td>Cabin number </td>\n",
    "    <td></td>\n",
    "  </tr>\n",
    "  <tr>\n",
    "    <td>Embarked</td>\n",
    "    <td>Port of Embarkation</td>\n",
    "        <td>C = Cherbourg, Q = Queenstown, S = Southampton</td>\n",
    "  </tr>\n",
    "</table>"
   ]
  },
  {
   "cell_type": "markdown",
   "metadata": {},
   "source": [
    "***\n",
    "### Variable Notes\n",
    "\n",
    "A. **Pclass**: A proxy for socio-economic status (SES)  \n",
    "  - 1st = Upper  \n",
    "  - 2nd = Middle    \n",
    "  - 3rd = Lower  \n",
    "\n",
    "B. **Age**: Age is fractional if less than 1. If the age is estimated, is it in the form of xx.5  \n",
    "\n",
    "C. **Sibsp**: The dataset defines family relations in this way:  \n",
    "  - Sibling = brother, sister, stepbrother, stepsister  \n",
    "  - Spouse = husband, wife (mistresses and fiancés were ignored)\n",
    "  \n",
    "D. **Parch**: The dataset defines family relations in this way:  \n",
    "  - Parent = mother, father  \n",
    "  - Child = daughter, son, stepdaughter, stepson  \n",
    "  - Some children travelled only with a nanny, therefore parch=0 for them.  \n",
    "  \n",
    "#### Esta amostra possui `891` registros obtidos do arquivo `titanic-data-6.csv`"
   ]
  },
  {
   "cell_type": "markdown",
   "metadata": {},
   "source": [
    "### Organização do conjunto de dados\n",
    "Informações gerais do conjunto de dados e estatísticas preliminares"
   ]
  },
  {
   "cell_type": "code",
   "execution_count": 352,
   "metadata": {},
   "outputs": [
    {
     "data": {
      "text/html": [
       "<div>\n",
       "<style scoped>\n",
       "    .dataframe tbody tr th:only-of-type {\n",
       "        vertical-align: middle;\n",
       "    }\n",
       "\n",
       "    .dataframe tbody tr th {\n",
       "        vertical-align: top;\n",
       "    }\n",
       "\n",
       "    .dataframe thead th {\n",
       "        text-align: right;\n",
       "    }\n",
       "</style>\n",
       "<table border=\"1\" class=\"dataframe\">\n",
       "  <thead>\n",
       "    <tr style=\"text-align: right;\">\n",
       "      <th></th>\n",
       "      <th>PassengerId</th>\n",
       "      <th>Survived</th>\n",
       "      <th>Pclass</th>\n",
       "      <th>Name</th>\n",
       "      <th>Sex</th>\n",
       "      <th>Age</th>\n",
       "      <th>SibSp</th>\n",
       "      <th>Parch</th>\n",
       "      <th>Ticket</th>\n",
       "      <th>Fare</th>\n",
       "      <th>Cabin</th>\n",
       "      <th>Embarked</th>\n",
       "    </tr>\n",
       "  </thead>\n",
       "  <tbody>\n",
       "    <tr>\n",
       "      <th>0</th>\n",
       "      <td>1</td>\n",
       "      <td>0</td>\n",
       "      <td>3</td>\n",
       "      <td>Braund, Mr. Owen Harris</td>\n",
       "      <td>male</td>\n",
       "      <td>22.0</td>\n",
       "      <td>1</td>\n",
       "      <td>0</td>\n",
       "      <td>A/5 21171</td>\n",
       "      <td>7.2500</td>\n",
       "      <td>NaN</td>\n",
       "      <td>S</td>\n",
       "    </tr>\n",
       "    <tr>\n",
       "      <th>1</th>\n",
       "      <td>2</td>\n",
       "      <td>1</td>\n",
       "      <td>1</td>\n",
       "      <td>Cumings, Mrs. John Bradley (Florence Briggs Th...</td>\n",
       "      <td>female</td>\n",
       "      <td>38.0</td>\n",
       "      <td>1</td>\n",
       "      <td>0</td>\n",
       "      <td>PC 17599</td>\n",
       "      <td>71.2833</td>\n",
       "      <td>C85</td>\n",
       "      <td>C</td>\n",
       "    </tr>\n",
       "    <tr>\n",
       "      <th>2</th>\n",
       "      <td>3</td>\n",
       "      <td>1</td>\n",
       "      <td>3</td>\n",
       "      <td>Heikkinen, Miss. Laina</td>\n",
       "      <td>female</td>\n",
       "      <td>26.0</td>\n",
       "      <td>0</td>\n",
       "      <td>0</td>\n",
       "      <td>STON/O2. 3101282</td>\n",
       "      <td>7.9250</td>\n",
       "      <td>NaN</td>\n",
       "      <td>S</td>\n",
       "    </tr>\n",
       "    <tr>\n",
       "      <th>3</th>\n",
       "      <td>4</td>\n",
       "      <td>1</td>\n",
       "      <td>1</td>\n",
       "      <td>Futrelle, Mrs. Jacques Heath (Lily May Peel)</td>\n",
       "      <td>female</td>\n",
       "      <td>35.0</td>\n",
       "      <td>1</td>\n",
       "      <td>0</td>\n",
       "      <td>113803</td>\n",
       "      <td>53.1000</td>\n",
       "      <td>C123</td>\n",
       "      <td>S</td>\n",
       "    </tr>\n",
       "    <tr>\n",
       "      <th>4</th>\n",
       "      <td>5</td>\n",
       "      <td>0</td>\n",
       "      <td>3</td>\n",
       "      <td>Allen, Mr. William Henry</td>\n",
       "      <td>male</td>\n",
       "      <td>35.0</td>\n",
       "      <td>0</td>\n",
       "      <td>0</td>\n",
       "      <td>373450</td>\n",
       "      <td>8.0500</td>\n",
       "      <td>NaN</td>\n",
       "      <td>S</td>\n",
       "    </tr>\n",
       "  </tbody>\n",
       "</table>\n",
       "</div>"
      ],
      "text/plain": [
       "   PassengerId  Survived  Pclass  \\\n",
       "0            1         0       3   \n",
       "1            2         1       1   \n",
       "2            3         1       3   \n",
       "3            4         1       1   \n",
       "4            5         0       3   \n",
       "\n",
       "                                                Name     Sex   Age  SibSp  \\\n",
       "0                            Braund, Mr. Owen Harris    male  22.0      1   \n",
       "1  Cumings, Mrs. John Bradley (Florence Briggs Th...  female  38.0      1   \n",
       "2                             Heikkinen, Miss. Laina  female  26.0      0   \n",
       "3       Futrelle, Mrs. Jacques Heath (Lily May Peel)  female  35.0      1   \n",
       "4                           Allen, Mr. William Henry    male  35.0      0   \n",
       "\n",
       "   Parch            Ticket     Fare Cabin Embarked  \n",
       "0      0         A/5 21171   7.2500   NaN        S  \n",
       "1      0          PC 17599  71.2833   C85        C  \n",
       "2      0  STON/O2. 3101282   7.9250   NaN        S  \n",
       "3      0            113803  53.1000  C123        S  \n",
       "4      0            373450   8.0500   NaN        S  "
      ]
     },
     "execution_count": 352,
     "metadata": {},
     "output_type": "execute_result"
    }
   ],
   "source": [
    "# Verificando as primeiras informações do conjunto de dados\n",
    "df_titanic.head()"
   ]
  },
  {
   "cell_type": "code",
   "execution_count": 353,
   "metadata": {},
   "outputs": [
    {
     "data": {
      "text/plain": [
       "(891, 12)"
      ]
     },
     "execution_count": 353,
     "metadata": {},
     "output_type": "execute_result"
    }
   ],
   "source": [
    "# Checando a quantidade de linhas e colunas\n",
    "df_titanic.shape"
   ]
  },
  {
   "cell_type": "code",
   "execution_count": 354,
   "metadata": {},
   "outputs": [],
   "source": [
    "# Removendo a coluna PassengerID que não será utilizada\n",
    "df_titanic.drop(['PassengerId'], axis=1, inplace=True)"
   ]
  },
  {
   "cell_type": "code",
   "execution_count": 355,
   "metadata": {},
   "outputs": [
    {
     "data": {
      "text/plain": [
       "Survived      0\n",
       "Pclass        0\n",
       "Name          0\n",
       "Sex           0\n",
       "Age         177\n",
       "SibSp         0\n",
       "Parch         0\n",
       "Ticket        0\n",
       "Fare          0\n",
       "Cabin       687\n",
       "Embarked      2\n",
       "dtype: int64"
      ]
     },
     "execution_count": 355,
     "metadata": {},
     "output_type": "execute_result"
    }
   ],
   "source": [
    "# Calculando quais colunas possuem nulos e suas quantidades.\n",
    "df_titanic.isnull().sum()"
   ]
  },
  {
   "cell_type": "code",
   "execution_count": 356,
   "metadata": {},
   "outputs": [
    {
     "name": "stdout",
     "output_type": "stream",
     "text": [
      "<class 'pandas.core.frame.DataFrame'>\n",
      "RangeIndex: 891 entries, 0 to 890\n",
      "Data columns (total 11 columns):\n",
      "Survived    891 non-null int64\n",
      "Pclass      891 non-null int64\n",
      "Name        891 non-null object\n",
      "Sex         891 non-null object\n",
      "Age         714 non-null float64\n",
      "SibSp       891 non-null int64\n",
      "Parch       891 non-null int64\n",
      "Ticket      891 non-null object\n",
      "Fare        891 non-null float64\n",
      "Cabin       204 non-null object\n",
      "Embarked    889 non-null object\n",
      "dtypes: float64(2), int64(4), object(5)\n",
      "memory usage: 76.6+ KB\n"
     ]
    }
   ],
   "source": [
    "# Resumo de informações do Dataframe\n",
    "df_titanic.info()"
   ]
  },
  {
   "cell_type": "code",
   "execution_count": 357,
   "metadata": {},
   "outputs": [
    {
     "data": {
      "text/html": [
       "<div>\n",
       "<style scoped>\n",
       "    .dataframe tbody tr th:only-of-type {\n",
       "        vertical-align: middle;\n",
       "    }\n",
       "\n",
       "    .dataframe tbody tr th {\n",
       "        vertical-align: top;\n",
       "    }\n",
       "\n",
       "    .dataframe thead th {\n",
       "        text-align: right;\n",
       "    }\n",
       "</style>\n",
       "<table border=\"1\" class=\"dataframe\">\n",
       "  <thead>\n",
       "    <tr style=\"text-align: right;\">\n",
       "      <th></th>\n",
       "      <th>Survived</th>\n",
       "      <th>Pclass</th>\n",
       "      <th>Age</th>\n",
       "      <th>SibSp</th>\n",
       "      <th>Parch</th>\n",
       "      <th>Fare</th>\n",
       "    </tr>\n",
       "  </thead>\n",
       "  <tbody>\n",
       "    <tr>\n",
       "      <th>count</th>\n",
       "      <td>891.000000</td>\n",
       "      <td>891.000000</td>\n",
       "      <td>714.000000</td>\n",
       "      <td>891.000000</td>\n",
       "      <td>891.000000</td>\n",
       "      <td>891.000000</td>\n",
       "    </tr>\n",
       "    <tr>\n",
       "      <th>mean</th>\n",
       "      <td>0.383838</td>\n",
       "      <td>2.308642</td>\n",
       "      <td>29.699118</td>\n",
       "      <td>0.523008</td>\n",
       "      <td>0.381594</td>\n",
       "      <td>32.204208</td>\n",
       "    </tr>\n",
       "    <tr>\n",
       "      <th>std</th>\n",
       "      <td>0.486592</td>\n",
       "      <td>0.836071</td>\n",
       "      <td>14.526497</td>\n",
       "      <td>1.102743</td>\n",
       "      <td>0.806057</td>\n",
       "      <td>49.693429</td>\n",
       "    </tr>\n",
       "    <tr>\n",
       "      <th>min</th>\n",
       "      <td>0.000000</td>\n",
       "      <td>1.000000</td>\n",
       "      <td>0.420000</td>\n",
       "      <td>0.000000</td>\n",
       "      <td>0.000000</td>\n",
       "      <td>0.000000</td>\n",
       "    </tr>\n",
       "    <tr>\n",
       "      <th>25%</th>\n",
       "      <td>0.000000</td>\n",
       "      <td>2.000000</td>\n",
       "      <td>20.125000</td>\n",
       "      <td>0.000000</td>\n",
       "      <td>0.000000</td>\n",
       "      <td>7.910400</td>\n",
       "    </tr>\n",
       "    <tr>\n",
       "      <th>50%</th>\n",
       "      <td>0.000000</td>\n",
       "      <td>3.000000</td>\n",
       "      <td>28.000000</td>\n",
       "      <td>0.000000</td>\n",
       "      <td>0.000000</td>\n",
       "      <td>14.454200</td>\n",
       "    </tr>\n",
       "    <tr>\n",
       "      <th>75%</th>\n",
       "      <td>1.000000</td>\n",
       "      <td>3.000000</td>\n",
       "      <td>38.000000</td>\n",
       "      <td>1.000000</td>\n",
       "      <td>0.000000</td>\n",
       "      <td>31.000000</td>\n",
       "    </tr>\n",
       "    <tr>\n",
       "      <th>max</th>\n",
       "      <td>1.000000</td>\n",
       "      <td>3.000000</td>\n",
       "      <td>80.000000</td>\n",
       "      <td>8.000000</td>\n",
       "      <td>6.000000</td>\n",
       "      <td>512.329200</td>\n",
       "    </tr>\n",
       "  </tbody>\n",
       "</table>\n",
       "</div>"
      ],
      "text/plain": [
       "         Survived      Pclass         Age       SibSp       Parch        Fare\n",
       "count  891.000000  891.000000  714.000000  891.000000  891.000000  891.000000\n",
       "mean     0.383838    2.308642   29.699118    0.523008    0.381594   32.204208\n",
       "std      0.486592    0.836071   14.526497    1.102743    0.806057   49.693429\n",
       "min      0.000000    1.000000    0.420000    0.000000    0.000000    0.000000\n",
       "25%      0.000000    2.000000   20.125000    0.000000    0.000000    7.910400\n",
       "50%      0.000000    3.000000   28.000000    0.000000    0.000000   14.454200\n",
       "75%      1.000000    3.000000   38.000000    1.000000    0.000000   31.000000\n",
       "max      1.000000    3.000000   80.000000    8.000000    6.000000  512.329200"
      ]
     },
     "execution_count": 357,
     "metadata": {},
     "output_type": "execute_result"
    }
   ],
   "source": [
    "# Estatísticas gerais do Dataframe\n",
    "df_titanic.describe()"
   ]
  },
  {
   "cell_type": "code",
   "execution_count": 358,
   "metadata": {},
   "outputs": [
    {
     "data": {
      "text/plain": [
       "0"
      ]
     },
     "execution_count": 358,
     "metadata": {},
     "output_type": "execute_result"
    }
   ],
   "source": [
    "# Checando os duplicados no Dataframe\n",
    "df_titanic.duplicated().sum()"
   ]
  },
  {
   "cell_type": "code",
   "execution_count": 359,
   "metadata": {},
   "outputs": [
    {
     "data": {
      "text/plain": [
       "2"
      ]
     },
     "execution_count": 359,
     "metadata": {},
     "output_type": "execute_result"
    }
   ],
   "source": [
    "# Verificando a quantidade de nulos de Embarked (porto de embarque)\n",
    "df_titanic['Embarked'].isnull().sum()"
   ]
  },
  {
   "cell_type": "code",
   "execution_count": 365,
   "metadata": {},
   "outputs": [
    {
     "data": {
      "text/plain": [
       "S    644\n",
       "C    168\n",
       "Q     77\n",
       "Name: Embarked, dtype: int64"
      ]
     },
     "execution_count": 365,
     "metadata": {},
     "output_type": "execute_result"
    }
   ],
   "source": [
    "# Checando dentre os portos de embarque, o de maior frequencia\n",
    "df_titanic['Embarked'].value_counts()"
   ]
  },
  {
   "cell_type": "code",
   "execution_count": 369,
   "metadata": {},
   "outputs": [],
   "source": [
    "# Preenchendo Embarked estatisticamente com a Moda (porto com maior frequencia)\n",
    "freq = df_titanic['Embarked'].mode()[0]\n",
    "df_titanic['Embarked'].fillna(freq, inplace=True)"
   ]
  },
  {
   "cell_type": "code",
   "execution_count": 375,
   "metadata": {},
   "outputs": [
    {
     "data": {
      "text/plain": [
       "0"
      ]
     },
     "execution_count": 375,
     "metadata": {},
     "output_type": "execute_result"
    }
   ],
   "source": [
    "# Verificando se ainda existem nulos em Embarked\n",
    "df_titanic['Embarked'].isnull().sum()"
   ]
  },
  {
   "cell_type": "code",
   "execution_count": 376,
   "metadata": {},
   "outputs": [
    {
     "data": {
      "text/plain": [
       "177"
      ]
     },
     "execution_count": 376,
     "metadata": {},
     "output_type": "execute_result"
    }
   ],
   "source": [
    "df_titanic['Age'].isnull().sum()"
   ]
  },
  {
   "cell_type": "code",
   "execution_count": 377,
   "metadata": {},
   "outputs": [
    {
     "data": {
      "image/png": "[encoded data removed]",
      "text/plain": [
       "<matplotlib.figure.Figure at 0x11bd49048>"
      ]
     },
     "metadata": {},
     "output_type": "display_data"
    }
   ],
   "source": [
    "# Grafico de distribuição de idades dos passageiros considerando os valores nulos\n",
    "ax = df_titanic['Age'].plot(kind='hist', title='Faixa etária dos passageiros considerando \\n valores nulos')\n",
    "ax.set_xlabel(\"Idade\")\n",
    "ax.set_ylabel(\"Frequencia\");"
   ]
  },
  {
   "cell_type": "code",
   "execution_count": 379,
   "metadata": {},
   "outputs": [
    {
     "data": {
      "image/png": "[encoded data removed]",
      "text/plain": [
       "<matplotlib.figure.Figure at 0x1152dfa58>"
      ]
     },
     "metadata": {},
     "output_type": "display_data"
    }
   ],
   "source": [
    "# Usando mean para preencher as idades faltantes\n",
    "mean = df_titanic['Age'].mean()\n",
    "df_titanic['Age'].fillna(mean, inplace=True)\n",
    "\n",
    "# Grafico de distribuição de idades dos passageiros com o preenchimento dos campos nulos com a média de idades\n",
    "ax = df_titanic['Age'].plot(kind='hist', title='Faixa etária dos passageiros considerando \\n a média de idades')\n",
    "ax.set_xlabel(\"Idade\")\n",
    "ax.set_ylabel(\"Frequencia\");"
   ]
  },
  {
   "cell_type": "code",
   "execution_count": 380,
   "metadata": {},
   "outputs": [
    {
     "data": {
      "text/plain": [
       "0"
      ]
     },
     "execution_count": 380,
     "metadata": {},
     "output_type": "execute_result"
    }
   ],
   "source": [
    "# Verificando se os nulos foram preenchidos\n",
    "df_titanic['Age'].isnull().sum()"
   ]
  },
  {
   "cell_type": "code",
   "execution_count": 381,
   "metadata": {},
   "outputs": [
    {
     "data": {
      "text/plain": [
       "29.699117647058763"
      ]
     },
     "execution_count": 381,
     "metadata": {},
     "output_type": "execute_result"
    }
   ],
   "source": [
    "# Estatísticas do Dataframe: Média de idade\n",
    "df_titanic['Age'].mean()"
   ]
  },
  {
   "cell_type": "code",
   "execution_count": 382,
   "metadata": {},
   "outputs": [
    {
     "data": {
      "text/plain": [
       "28.54977812177503"
      ]
     },
     "execution_count": 382,
     "metadata": {},
     "output_type": "execute_result"
    }
   ],
   "source": [
    "# Estatísticas do Dataframe: Média de idade dos sobreviventes\n",
    "df_titanic[df_titanic['Survived']== 1].mean()['Age']"
   ]
  },
  {
   "cell_type": "code",
   "execution_count": 383,
   "metadata": {},
   "outputs": [
    {
     "data": {
      "text/plain": [
       "30.415099646415896"
      ]
     },
     "execution_count": 383,
     "metadata": {},
     "output_type": "execute_result"
    }
   ],
   "source": [
    "# Estatísticas do Dataframe: Média de idade dos mortos\n",
    "df_titanic[df_titanic['Survived']== 0].mean()['Age']"
   ]
  },
  {
   "cell_type": "code",
   "execution_count": 384,
   "metadata": {},
   "outputs": [
    {
     "data": {
      "text/plain": [
       "30.50582424304206"
      ]
     },
     "execution_count": 384,
     "metadata": {},
     "output_type": "execute_result"
    }
   ],
   "source": [
    "# Estatísticas do Dataframe: Média de idade dos homens\n",
    "df_titanic[df_titanic['Sex']== 'male'].mean()['Age']"
   ]
  },
  {
   "cell_type": "code",
   "execution_count": 385,
   "metadata": {},
   "outputs": [
    {
     "data": {
      "text/plain": [
       "28.216730048707397"
      ]
     },
     "execution_count": 385,
     "metadata": {},
     "output_type": "execute_result"
    }
   ],
   "source": [
    "# Estatísticas do Dataframe: Média de idade das mulheres\n",
    "df_titanic[df_titanic_cleaned['Sex']== 'female'].mean()['Age']"
   ]
  },
  {
   "cell_type": "code",
   "execution_count": 386,
   "metadata": {},
   "outputs": [
    {
     "data": {
      "text/html": [
       "<div>\n",
       "<style scoped>\n",
       "    .dataframe tbody tr th:only-of-type {\n",
       "        vertical-align: middle;\n",
       "    }\n",
       "\n",
       "    .dataframe tbody tr th {\n",
       "        vertical-align: top;\n",
       "    }\n",
       "\n",
       "    .dataframe thead th {\n",
       "        text-align: right;\n",
       "    }\n",
       "</style>\n",
       "<table border=\"1\" class=\"dataframe\">\n",
       "  <thead>\n",
       "    <tr style=\"text-align: right;\">\n",
       "      <th></th>\n",
       "      <th>Survived</th>\n",
       "      <th>Pclass</th>\n",
       "      <th>Sex</th>\n",
       "      <th>Age</th>\n",
       "    </tr>\n",
       "  </thead>\n",
       "  <tbody>\n",
       "    <tr>\n",
       "      <th>0</th>\n",
       "      <td>0</td>\n",
       "      <td>3</td>\n",
       "      <td>male</td>\n",
       "      <td>22.0</td>\n",
       "    </tr>\n",
       "    <tr>\n",
       "      <th>1</th>\n",
       "      <td>1</td>\n",
       "      <td>1</td>\n",
       "      <td>female</td>\n",
       "      <td>38.0</td>\n",
       "    </tr>\n",
       "    <tr>\n",
       "      <th>2</th>\n",
       "      <td>1</td>\n",
       "      <td>3</td>\n",
       "      <td>female</td>\n",
       "      <td>26.0</td>\n",
       "    </tr>\n",
       "    <tr>\n",
       "      <th>3</th>\n",
       "      <td>1</td>\n",
       "      <td>1</td>\n",
       "      <td>female</td>\n",
       "      <td>35.0</td>\n",
       "    </tr>\n",
       "    <tr>\n",
       "      <th>4</th>\n",
       "      <td>0</td>\n",
       "      <td>3</td>\n",
       "      <td>male</td>\n",
       "      <td>35.0</td>\n",
       "    </tr>\n",
       "  </tbody>\n",
       "</table>\n",
       "</div>"
      ],
      "text/plain": [
       "   Survived  Pclass     Sex   Age\n",
       "0         0       3    male  22.0\n",
       "1         1       1  female  38.0\n",
       "2         1       3  female  26.0\n",
       "3         1       1  female  35.0\n",
       "4         0       3    male  35.0"
      ]
     },
     "execution_count": 386,
     "metadata": {},
     "output_type": "execute_result"
    }
   ],
   "source": [
    "# Deixando o dataframe apenas com as colunas que interessam para as próximas análises\n",
    "df_titanic_subset = df_titanic.iloc[:, np.r_[0:5]]\n",
    "df_titanic_cleaned = df_titanic_subset.drop(columns=['Name'], axis=1)\n",
    "df_titanic_cleaned.head()"
   ]
  },
  {
   "cell_type": "code",
   "execution_count": 387,
   "metadata": {},
   "outputs": [
    {
     "data": {
      "text/plain": [
       "Survived    577\n",
       "Pclass      577\n",
       "Sex         577\n",
       "Age         577\n",
       "dtype: int64"
      ]
     },
     "execution_count": 387,
     "metadata": {},
     "output_type": "execute_result"
    }
   ],
   "source": [
    "# Totais para Homens\n",
    "df_titanic_cleaned[df_titanic_cleaned['Sex']=='male'].count()"
   ]
  },
  {
   "cell_type": "code",
   "execution_count": 388,
   "metadata": {},
   "outputs": [
    {
     "data": {
      "text/plain": [
       "Survived    314\n",
       "Pclass      314\n",
       "Sex         314\n",
       "Age         314\n",
       "dtype: int64"
      ]
     },
     "execution_count": 388,
     "metadata": {},
     "output_type": "execute_result"
    }
   ],
   "source": [
    "# Totais para Mulheres\n",
    "df_titanic_cleaned[df_titanic_cleaned['Sex']=='female'].count()"
   ]
  },
  {
   "cell_type": "code",
   "execution_count": 389,
   "metadata": {},
   "outputs": [],
   "source": [
    "# Organizando os Dataframes por gênero\n",
    "df_titanic_m = df_titanic_cleaned[df_titanic_cleaned['Sex']=='male']\n",
    "df_titanic_f = df_titanic_cleaned[df_titanic_cleaned['Sex']=='female']"
   ]
  },
  {
   "cell_type": "markdown",
   "metadata": {},
   "source": [
    "## Data Analysis and conclusions\n",
    "\n",
    "### Analisando os dados e tirando conclusões\n",
    "\n",
    "A partir desta seção serão realizadas as análises mais aprofundadas no dataset, e serão tiradas algumas conclusões sobre os resultados obtidos."
   ]
  },
  {
   "cell_type": "markdown",
   "metadata": {},
   "source": [
    "### Sobreviventes e Mortos por gênero (Homens e Mulheres)"
   ]
  },
  {
   "cell_type": "code",
   "execution_count": 390,
   "metadata": {},
   "outputs": [
    {
     "data": {
      "text/plain": [
       "Survived\n",
       "0    468\n",
       "1    109\n",
       "Name: Sex, dtype: int64"
      ]
     },
     "execution_count": 390,
     "metadata": {},
     "output_type": "execute_result"
    }
   ],
   "source": [
    "# Numeros de Sobrevivência de Homens\n",
    "df_titanic_m.groupby('Survived').count()['Sex']"
   ]
  },
  {
   "cell_type": "code",
   "execution_count": 391,
   "metadata": {},
   "outputs": [
    {
     "data": {
      "text/plain": [
       "Survived\n",
       "0    81.109185\n",
       "1    18.890815\n",
       "Name: Sex, dtype: float64"
      ]
     },
     "execution_count": 391,
     "metadata": {},
     "output_type": "execute_result"
    }
   ],
   "source": [
    "# Proporção de Sobrevivência de Homens\n",
    "df_titanic_m.groupby('Survived').count()['Sex'] / df_titanic_m.count()['Sex'] * 100"
   ]
  },
  {
   "cell_type": "code",
   "execution_count": 392,
   "metadata": {},
   "outputs": [
    {
     "data": {
      "image/png": "[encoded data removed]",
      "text/plain": [
       "<matplotlib.figure.Figure at 0x119b3bb38>"
      ]
     },
     "metadata": {},
     "output_type": "display_data"
    }
   ],
   "source": [
    "# Grafico de barras\n",
    "df = (df_titanic_m.groupby('Survived').count()['Sex'] / df_titanic_m.count()['Sex'] * 100).tolist()\n",
    "plt.bar([1,2], df, color=['darkred','steelblue'])\n",
    "plt.xticks([1,2], ['Não','Sim'])\n",
    "plt.title('Percentual de Sobreviventes Homens')\n",
    "plt.xlabel('Sobreviveu?')\n",
    "plt.ylabel('Percentual');"
   ]
  },
  {
   "cell_type": "markdown",
   "metadata": {},
   "source": [
    "De acordo com o gráfico acima, observamos que 81% dos *homens* (passageiros do gênero masculino) não conseguiram sobreviver, enquanto apenas 18.8% sobreviveram, considerando adultos e crianças."
   ]
  },
  {
   "cell_type": "code",
   "execution_count": 393,
   "metadata": {},
   "outputs": [
    {
     "data": {
      "text/plain": [
       "Survived\n",
       "0     81\n",
       "1    233\n",
       "Name: Sex, dtype: int64"
      ]
     },
     "execution_count": 393,
     "metadata": {},
     "output_type": "execute_result"
    }
   ],
   "source": [
    "# Numeros de Sobrevivência de Mulheres\n",
    "df_titanic_f.groupby('Survived').count()['Sex']"
   ]
  },
  {
   "cell_type": "code",
   "execution_count": 394,
   "metadata": {},
   "outputs": [
    {
     "data": {
      "text/plain": [
       "Survived\n",
       "0    25.796178\n",
       "1    74.203822\n",
       "Name: Sex, dtype: float64"
      ]
     },
     "execution_count": 394,
     "metadata": {},
     "output_type": "execute_result"
    }
   ],
   "source": [
    "# Proporção de Sobrevivência de Mulheres\n",
    "df_titanic_f.groupby('Survived').count()['Sex'] / df_titanic_f.count()['Sex'] * 100"
   ]
  },
  {
   "cell_type": "code",
   "execution_count": 395,
   "metadata": {},
   "outputs": [
    {
     "data": {
      "image/png": "[encoded data removed]",
      "text/plain": [
       "<matplotlib.figure.Figure at 0x119b462e8>"
      ]
     },
     "metadata": {},
     "output_type": "display_data"
    }
   ],
   "source": [
    "# Grafico de barras\n",
    "df = (df_titanic_f.groupby('Survived').count()['Sex'] / df_titanic_f.count()['Sex'] * 100).tolist()\n",
    "plt.bar([1,2], df, color=['darkred','steelblue'])\n",
    "plt.xticks([1,2],['Não','Sim'])\n",
    "plt.title('Percentual de Sobreviventes Mulheres')\n",
    "plt.xlabel('Sobreviveu?')\n",
    "plt.ylabel('Percentual');"
   ]
  },
  {
   "cell_type": "markdown",
   "metadata": {},
   "source": [
    "De acordo com o gráfico acima, observamos que 25.7% das *mulheres* (passageiras do gênero feminino) não conseguiram sobreviver, enquanto a maioria 74.2% sobreviveu, considerando entre adultos e crianças. "
   ]
  },
  {
   "cell_type": "code",
   "execution_count": 396,
   "metadata": {},
   "outputs": [
    {
     "data": {
      "text/plain": [
       "Survived\n",
       "0    52.525253\n",
       "1    12.233446\n",
       "Name: Sex, dtype: float64"
      ]
     },
     "execution_count": 396,
     "metadata": {},
     "output_type": "execute_result"
    }
   ],
   "source": [
    "# Proporção de sobreviventes homens do total de passageiros (homens e mulheres)\n",
    "df_titanic_m.groupby('Survived').count()['Sex'] / df_titanic.count()['Sex'] * 100"
   ]
  },
  {
   "cell_type": "code",
   "execution_count": 397,
   "metadata": {},
   "outputs": [
    {
     "data": {
      "text/plain": [
       "Survived\n",
       "0     9.090909\n",
       "1    26.150393\n",
       "Name: Sex, dtype: float64"
      ]
     },
     "execution_count": 397,
     "metadata": {},
     "output_type": "execute_result"
    }
   ],
   "source": [
    "# Proporção de sobreviventes mulheres do total de passageiros (homens e mulheres)\n",
    "df_titanic_f.groupby('Survived').count()['Sex'] / df_titanic.count()['Sex'] * 100"
   ]
  },
  {
   "cell_type": "code",
   "execution_count": 398,
   "metadata": {},
   "outputs": [
    {
     "data": {
      "text/plain": [
       "342"
      ]
     },
     "execution_count": 398,
     "metadata": {},
     "output_type": "execute_result"
    }
   ],
   "source": [
    "# Organizando o Dataframe de Sobreviventes\n",
    "df_survived = df_titanic.query('Survived == 1')\n",
    "df_survived['Sex'].count()"
   ]
  },
  {
   "cell_type": "code",
   "execution_count": 399,
   "metadata": {},
   "outputs": [
    {
     "data": {
      "text/plain": [
       "Sex\n",
       "female    26.150393\n",
       "male      12.233446\n",
       "Name: Survived, dtype: float64"
      ]
     },
     "execution_count": 399,
     "metadata": {},
     "output_type": "execute_result"
    }
   ],
   "source": [
    "# Proporção de Sobreviventes por Gênero\n",
    "df_survived.groupby('Sex').count()['Survived'] / df_titanic.count()['Sex'] * 100"
   ]
  },
  {
   "cell_type": "code",
   "execution_count": 400,
   "metadata": {},
   "outputs": [
    {
     "data": {
      "text/plain": [
       "Survived\n",
       "1    38.383838\n",
       "Name: Sex, dtype: float64"
      ]
     },
     "execution_count": 400,
     "metadata": {},
     "output_type": "execute_result"
    }
   ],
   "source": [
    "# Proporção de sobreviventes sobre todos os passageiros do navio\n",
    "df_survived.groupby('Survived').count()['Sex'] / df_titanic.count()['Sex'] * 100"
   ]
  },
  {
   "cell_type": "code",
   "execution_count": 401,
   "metadata": {},
   "outputs": [],
   "source": [
    "lst_survived = [df_titanic_m.groupby('Survived').count()['Sex'][1], df_titanic_f.groupby('Survived').count()['Sex'][1]]"
   ]
  },
  {
   "cell_type": "code",
   "execution_count": 402,
   "metadata": {},
   "outputs": [
    {
     "data": {
      "image/png": "[encoded data removed]",
      "text/plain": [
       "<matplotlib.figure.Figure at 0x11a811748>"
      ]
     },
     "metadata": {},
     "output_type": "display_data"
    }
   ],
   "source": [
    "# Comparativo de sobreviventes por Gênero (Homens x Mulheres)\n",
    "plt.bar([1,2], lst_survived, color=['steelblue','slategrey'])\n",
    "plt.xticks([1,2],['Homens','Mulheres'])\n",
    "plt.title('Comparativo de sobreviventes por Gênero \\n (Homens e Mulheres)')\n",
    "plt.xlabel('Sexo')\n",
    "plt.ylabel('Total');\n",
    "\n",
    "# Sobreviventes por Gênero\n",
    "#df_titanic_s['Sex'].value_counts().plot(kind='bar');"
   ]
  },
  {
   "cell_type": "markdown",
   "metadata": {},
   "source": [
    "### Conclusões sobre a relação entre sobrevivência e o gênero dos passageiros\n",
    "Concluímos que a maior proporção de sobreviventes foram as mulheres. A taxa de sobrevivência das mulheres ficou um pouco acima do dobro da taxa de sobreviventes homens:\n",
    "\n",
    "#### Estatísticas:\n",
    "- Total de passageiros = 891\n",
    "- Total de sobreviventes = 342 (38%)\n",
    "- Sobreviventes Homens = 109 (12%)\n",
    "- Sobreviventes Mulheres = 233 (26%)\n",
    "\n",
    "Podemos afirmar até aqui, de acordo com os dados disponíveis analisados, que o gênero foi um dos fatores decisivos na sobrevivência ao naufrágio."
   ]
  },
  {
   "cell_type": "markdown",
   "metadata": {},
   "source": [
    "### Sobreviventes e Mortos por Classe"
   ]
  },
  {
   "cell_type": "code",
   "execution_count": 403,
   "metadata": {},
   "outputs": [],
   "source": [
    "# Preparação dos Dataframes de sobreviventes e mortos\n",
    "df_titanic_s = df_titanic_cleaned[df_titanic_cleaned['Survived']== 1]\n",
    "df_titanic_m = df_titanic_cleaned[df_titanic_cleaned['Survived']== 0]"
   ]
  },
  {
   "cell_type": "code",
   "execution_count": 404,
   "metadata": {},
   "outputs": [
    {
     "data": {
      "text/plain": [
       "Pclass\n",
       "1    216\n",
       "2    184\n",
       "3    491\n",
       "Name: Survived, dtype: int64"
      ]
     },
     "execution_count": 404,
     "metadata": {},
     "output_type": "execute_result"
    }
   ],
   "source": [
    "# Verificando o total de passageiros por Classe\n",
    "df_titanic.groupby('Pclass').count()['Survived']"
   ]
  },
  {
   "cell_type": "code",
   "execution_count": 405,
   "metadata": {},
   "outputs": [
    {
     "data": {
      "text/plain": [
       "Pclass\n",
       "1    136\n",
       "2     87\n",
       "3    119\n",
       "Name: Survived, dtype: int64"
      ]
     },
     "execution_count": 405,
     "metadata": {},
     "output_type": "execute_result"
    }
   ],
   "source": [
    "# Sobreviventes por Classe\n",
    "df_titanic_s.groupby('Pclass').count()['Survived']"
   ]
  },
  {
   "cell_type": "code",
   "execution_count": 406,
   "metadata": {},
   "outputs": [
    {
     "data": {
      "text/plain": [
       "Pclass\n",
       "1     80\n",
       "2     97\n",
       "3    372\n",
       "Name: Survived, dtype: int64"
      ]
     },
     "execution_count": 406,
     "metadata": {},
     "output_type": "execute_result"
    }
   ],
   "source": [
    "# Mortos por Classe\n",
    "df_titanic_m.groupby('Pclass').count()['Survived']"
   ]
  },
  {
   "cell_type": "code",
   "execution_count": 407,
   "metadata": {},
   "outputs": [
    {
     "data": {
      "text/plain": [
       "Pclass\n",
       "1    39.766082\n",
       "2    25.438596\n",
       "3    34.795322\n",
       "Name: Survived, dtype: float64"
      ]
     },
     "execution_count": 407,
     "metadata": {},
     "output_type": "execute_result"
    }
   ],
   "source": [
    "# Proporção de Sobreviventes por Classe\n",
    "df_titanic_s.groupby('Pclass').count()['Survived'] / df_titanic_s.count()['Survived'] * 100"
   ]
  },
  {
   "cell_type": "markdown",
   "metadata": {},
   "source": [
    "Nota: Os que mais sobreviveram estavam na 1.ª classe (39.8%)"
   ]
  },
  {
   "cell_type": "code",
   "execution_count": 408,
   "metadata": {},
   "outputs": [
    {
     "data": {
      "text/plain": [
       "Pclass\n",
       "1    14.571949\n",
       "2    17.668488\n",
       "3    67.759563\n",
       "Name: Survived, dtype: float64"
      ]
     },
     "execution_count": 408,
     "metadata": {},
     "output_type": "execute_result"
    }
   ],
   "source": [
    "# Proporção de Mortos por Classe\n",
    "df_titanic_m.groupby('Pclass').count()['Survived'] / df_titanic_m.count()['Survived'] * 100"
   ]
  },
  {
   "cell_type": "markdown",
   "metadata": {},
   "source": [
    "Nota: Os que mais morreram estavam na 3.ª classe (67.8%)"
   ]
  },
  {
   "cell_type": "code",
   "execution_count": 409,
   "metadata": {},
   "outputs": [
    {
     "data": {
      "image/png": "[encoded data removed]",
      "text/plain": [
       "<matplotlib.figure.Figure at 0x11abff780>"
      ]
     },
     "metadata": {},
     "output_type": "display_data"
    }
   ],
   "source": [
    "# Grafico de barras\n",
    "df = (df_titanic_s.groupby('Pclass').count()['Survived'] / df_titanic_s.count()['Survived'] * 100).tolist()\n",
    "plt.bar([1,2,3], df, color=['darkslategrey','steelblue', 'slategrey'])\n",
    "plt.xticks([1,2,3],['1a','2a', '3a'])\n",
    "plt.title('Proporção de sobreviventes por Classe')\n",
    "plt.xlabel('Classe')\n",
    "plt.ylabel('Percentual');"
   ]
  },
  {
   "cell_type": "markdown",
   "metadata": {},
   "source": [
    "De acordo com o gráfico acima, dentre os passageiros que sobreviveram, os da 1.ª classe (sem distinção por gênero) foram os que mais sobreviveram. Observa-se que ***39.8%*** de 1.ª classe conseguiram sobreviver, enquanto ***25.4%*** da 2.ª classe e ***34.8%*** de sobreviventes da 3.ª classe, proporcionalmente em suas classes. De acordo com esta primeira análise, observamos que não houve essencialmente como fator decisivo de sobrevivência, a relação de classe do passageiro. Porém, em termos proporcionais, os passageiros da 1.ª classe tiveram uma melhor taxa de sobrevivência."
   ]
  },
  {
   "cell_type": "code",
   "execution_count": 410,
   "metadata": {},
   "outputs": [
    {
     "data": {
      "text/plain": [
       "Pclass\n",
       "1    15.263749\n",
       "2     9.764310\n",
       "3    13.355780\n",
       "Name: Survived, dtype: float64"
      ]
     },
     "execution_count": 410,
     "metadata": {},
     "output_type": "execute_result"
    }
   ],
   "source": [
    "# Proporção de Sobreviventes por Classe do total de passageiros (homens e mulheres)\n",
    "df_titanic_s.groupby('Pclass').count()['Survived'] / df_titanic.count()['Survived'] * 100"
   ]
  },
  {
   "cell_type": "markdown",
   "metadata": {},
   "source": [
    "Nota: A 1.ª classe se mantém com o melhor índice de sobrevivência (15.3%)"
   ]
  },
  {
   "cell_type": "code",
   "execution_count": 411,
   "metadata": {},
   "outputs": [
    {
     "data": {
      "image/png": "[encoded data removed]",
      "text/plain": [
       "<matplotlib.figure.Figure at 0x11acdcdd8>"
      ]
     },
     "metadata": {},
     "output_type": "display_data"
    }
   ],
   "source": [
    "# Grafico de barras\n",
    "df = (df_titanic_s.groupby('Pclass').count()['Survived'] / df_titanic.count()['Survived'] * 100).tolist()\n",
    "plt.bar([1,2,3], df, color=['darkslategrey','steelblue', 'slategrey'])\n",
    "plt.xticks([1,2,3],['1.ª','2.ª', '3.ª'])\n",
    "plt.title('Proporção de sobreviventes em cada Classe \\n pelo Total de passageiros')\n",
    "plt.xlabel('Classe')\n",
    "plt.ylabel('Percentual');"
   ]
  },
  {
   "cell_type": "markdown",
   "metadata": {},
   "source": [
    "Observa-se que mesmo em relação ao total de passageiros, as proporções são basicamente mantidas, confirmando a análise acima de que o fator classe não foi tão determinante para a sobrevivência de passageiros. Tendo é claro, percentuais inferiores de sobreviventes em relação ao total, do que proporcionalmente dentro de cada classe."
   ]
  },
  {
   "cell_type": "code",
   "execution_count": 412,
   "metadata": {},
   "outputs": [
    {
     "data": {
      "image/png": "[encoded data removed]",
      "text/plain": [
       "<matplotlib.figure.Figure at 0x11ad966a0>"
      ]
     },
     "metadata": {},
     "output_type": "display_data"
    }
   ],
   "source": [
    "# Grafico de barras\n",
    "df = (df_titanic_m.groupby('Pclass').count()['Survived'] / df_titanic_m.count()['Survived'] * 100).tolist()\n",
    "plt.bar([1,2,3], df, color=['darkslategrey','steelblue', 'slategrey'])\n",
    "plt.xticks([1,2,3],['1.ª','2.ª','3.ª'])\n",
    "plt.title('Proporção de mortes por Classe')\n",
    "plt.xlabel('Classe')\n",
    "plt.ylabel('Percentual');"
   ]
  },
  {
   "cell_type": "markdown",
   "metadata": {},
   "source": [
    "Em relação às mortes, cerca de **68%** dos passageiros da 3.ª classe não conseguiram sobreviver, enquanto que as taxas das classes superiores, observa-se significativa redução de mortes (**17.6%** na 2.ª classe e **14.5%** na 1.ª classe).\n",
    "\n",
    "** Podemos concluir que termos proporcionais, a 1.ª e a 3.ª classes mantiveram seus % aproximados, porém quando observamos os números totais, a quantidade de mortos foi bem superior na 3.ª classe. **"
   ]
  },
  {
   "cell_type": "code",
   "execution_count": 413,
   "metadata": {},
   "outputs": [
    {
     "data": {
      "image/png": "[encoded data removed]",
      "text/plain": [
       "<matplotlib.figure.Figure at 0x11af15320>"
      ]
     },
     "metadata": {},
     "output_type": "display_data"
    }
   ],
   "source": [
    "# Grafico de barras\n",
    "df = (df_titanic_m.groupby('Pclass').count()['Survived'] / df_titanic.count()['Survived'] * 100).tolist()\n",
    "plt.bar([1,2,3], df, color=['darkslategrey','steelblue', 'slategrey'])\n",
    "plt.xticks([1,2,3],['1.ª','2.ª','3.ª'])\n",
    "plt.title('Proporção de mortes por Classe \\n pelo Total de passageiros')\n",
    "plt.xlabel('Classe')\n",
    "plt.ylabel('Percentual');"
   ]
  },
  {
   "cell_type": "markdown",
   "metadata": {},
   "source": [
    "No gráfico acima observa-se disposição proporcional semelhante em relação às mortes por classe (gráfico anterior).\n",
    "\n",
    "** Conclui-se que a classe foi um fator determinante nas mortes dos passageiros. As classes mais altas tiveram as menores taxas entre os mortos em relação a classe mais baixa. **"
   ]
  },
  {
   "cell_type": "code",
   "execution_count": 414,
   "metadata": {},
   "outputs": [
    {
     "data": {
      "image/png": "[encoded data removed]",
      "text/plain": [
       "<matplotlib.figure.Figure at 0x11ac32a58>"
      ]
     },
     "metadata": {},
     "output_type": "display_data"
    }
   ],
   "source": [
    "# Grafico comparativo de sobreviventes x mortos por classe\n",
    "df_s = (df_titanic_s.groupby('Pclass').count()['Survived'] / df_titanic_s.count()['Survived'] * 100).tolist()\n",
    "df_m = (df_titanic_m.groupby('Pclass').count()['Survived'] / df_titanic_m.count()['Survived'] * 100).tolist()\n",
    "plt.bar([1,4,7], df_s, color=['steelblue'], label='Sobreviventes')\n",
    "plt.bar([1.8,4.8,7.8], df_m, color=['darkred'], label='Mortos')\n",
    "plt.xticks([1.4,4.4,7.4],['1a','2a','3a'])\n",
    "plt.legend()\n",
    "plt.title('Comparativo de sobreviventes x mortos por classe')\n",
    "plt.xlabel('Classe')\n",
    "plt.ylabel('Percentual');"
   ]
  },
  {
   "cell_type": "code",
   "execution_count": 415,
   "metadata": {},
   "outputs": [
    {
     "data": {
      "image/png": "[encoded data removed]",
      "text/plain": [
       "<matplotlib.figure.Figure at 0x11b0e7cf8>"
      ]
     },
     "metadata": {},
     "output_type": "display_data"
    }
   ],
   "source": [
    "# Grafico comparativo de sobreviventes x mortos por classe do total de passageiros (homens e mulheres)\n",
    "df_s = (df_titanic_s.groupby('Pclass').count()['Survived'] / df_titanic.count()['Survived'] * 100).tolist()\n",
    "df_m = (df_titanic_m.groupby('Pclass').count()['Survived'] / df_titanic.count()['Survived'] * 100).tolist()\n",
    "plt.bar([1,4,7], df_s, color=['steelblue'], label='Sobreviventes')\n",
    "plt.bar([1.8,4.8,7.8], df_m, color=['darkred'], label='Mortos')\n",
    "plt.xticks([1.4,4.4,7.4],['1a','2a','3a'])\n",
    "plt.legend()\n",
    "plt.title('Comparativo de sobreviventes x mortos por classe \\n em relação ao total de passageiros')\n",
    "plt.xlabel('Classe')\n",
    "plt.ylabel('Percentual');"
   ]
  },
  {
   "cell_type": "markdown",
   "metadata": {},
   "source": [
    "### Conclusões sobre a relação entre sobrevivência e morte dos passageiros por Classe\n",
    "Observa-se que a maior proporção de sobreviventes estavam presente na 1.ª classe, e em contrapartida, a maioria das mortes ocorreu com passageiros da 3.ª classe. A relação entre as taxas de sobrevivência e morte da 2.ª classe ficaram relativamente próximas.\n",
    "\n",
    "#### Estatísticas:\n",
    "- Total de passageiros = 891\n",
    "- Total de sobreviventes = 342 (38%)\n",
    "***\n",
    "- Total de passageiros na 1.ª Classe = 216\n",
    "- Total de passageiros na 2.ª Classe = 184\n",
    "- Total de passageiros na 3.ª Classe = 491\n",
    "***\n",
    "- Sobreviventes na 1.ª Classe = 136 (39.7%)\n",
    "- Sobreviventes na 2.ª Classe =  87 (25.4%)\n",
    "- Sobreviventes na 3.ª Classe = 119 (34.8%)\n",
    "***\n",
    "- Mortos na 1.ª Classe =  80 (14.5%)\n",
    "- Mortos na 2.ª Classe =  97 (17.6%)\n",
    "- Mortos na 3.ª Classe = 372 (67.8%)\n",
    "\n",
    "** De acordo com os dados analisados, podemos afirmar que dentro destes parâmetros, a classe foi um dos fatores determinantes para a sobrevivência dos passageiros. **"
   ]
  },
  {
   "cell_type": "markdown",
   "metadata": {},
   "source": [
    "### Sobreviventes e Mortos por Gênero (Homens e Mulheres) e Classe"
   ]
  },
  {
   "cell_type": "code",
   "execution_count": 416,
   "metadata": {},
   "outputs": [],
   "source": [
    "# Preparação dos dados de sobreviventes e mortos Homens\n",
    "df_titanic_s_h = df_titanic_s[df_titanic_s['Sex'] == 'male']\n",
    "df_titanic_m_h = df_titanic_m[df_titanic_m['Sex'] == 'male']\n",
    "\n",
    "# Preparação dos dados de sobreviventes e mortos Mulheres\n",
    "df_titanic_s_m = df_titanic_s[df_titanic_s['Sex'] == 'female']\n",
    "df_titanic_m_m = df_titanic_m[df_titanic_m['Sex'] == 'female']"
   ]
  },
  {
   "cell_type": "code",
   "execution_count": 417,
   "metadata": {},
   "outputs": [
    {
     "data": {
      "text/plain": [
       "Pclass\n",
       "1    45\n",
       "2    17\n",
       "3    47\n",
       "Name: Survived, dtype: int64"
      ]
     },
     "execution_count": 417,
     "metadata": {},
     "output_type": "execute_result"
    }
   ],
   "source": [
    "# Sobreviventes Homens por Classe\n",
    "df_titanic_s_h.groupby('Pclass').count()['Survived']"
   ]
  },
  {
   "cell_type": "code",
   "execution_count": 418,
   "metadata": {},
   "outputs": [
    {
     "data": {
      "text/plain": [
       "Pclass\n",
       "1     77\n",
       "2     91\n",
       "3    300\n",
       "Name: Survived, dtype: int64"
      ]
     },
     "execution_count": 418,
     "metadata": {},
     "output_type": "execute_result"
    }
   ],
   "source": [
    "# Mortos Homens por Classe\n",
    "df_titanic_m_h.groupby('Pclass').count()['Survived']"
   ]
  },
  {
   "cell_type": "code",
   "execution_count": 419,
   "metadata": {},
   "outputs": [
    {
     "data": {
      "text/plain": [
       "Pclass\n",
       "1    41.284404\n",
       "2    15.596330\n",
       "3    43.119266\n",
       "Name: Survived, dtype: float64"
      ]
     },
     "execution_count": 419,
     "metadata": {},
     "output_type": "execute_result"
    }
   ],
   "source": [
    "# Proporção de Sobreviventes Homens por Classe\n",
    "df_titanic_s_h.groupby('Pclass').count()['Survived'] / df_titanic_s_h.count()['Survived'] * 100"
   ]
  },
  {
   "cell_type": "code",
   "execution_count": 420,
   "metadata": {},
   "outputs": [
    {
     "data": {
      "text/plain": [
       "Pclass\n",
       "1    16.452991\n",
       "2    19.444444\n",
       "3    64.102564\n",
       "Name: Survived, dtype: float64"
      ]
     },
     "execution_count": 420,
     "metadata": {},
     "output_type": "execute_result"
    }
   ],
   "source": [
    "# Proporção de mortos Homens por Classe\n",
    "df_titanic_m_h.groupby('Pclass').count()['Survived'] / df_titanic_m_h.count()['Survived'] * 100"
   ]
  },
  {
   "cell_type": "code",
   "execution_count": 421,
   "metadata": {},
   "outputs": [
    {
     "data": {
      "image/png": "[encoded data removed]",
      "text/plain": [
       "<matplotlib.figure.Figure at 0x11affc7b8>"
      ]
     },
     "metadata": {},
     "output_type": "display_data"
    }
   ],
   "source": [
    "# Grafico de barras\n",
    "df = (df_titanic_s_h.groupby('Pclass').count()['Survived'] / df_titanic_s_h.count()['Survived'] * 100).tolist()\n",
    "plt.bar([1,2,3], df, color=['darkslategrey','steelblue', 'slategrey'])\n",
    "plt.xticks([1,2,3],['1.ª','2.ª', '3.ª'])\n",
    "plt.title('Proporção de Homens sobreviventes por Classe')\n",
    "plt.xlabel('Classe')\n",
    "plt.ylabel('Percentual');"
   ]
  },
  {
   "cell_type": "markdown",
   "metadata": {},
   "source": [
    "Observamos que dentre os passageiros **homens** e apenas sobre os números daqueles que sobreviveram, que os da 3.ª classe tiveram um valor proporcional mais alto de sobrevivência (**43.1%**), enquanto que ***15.6%*** na 2.ª classe e ***41.3%*** na 1.ª classe. \n",
    "\n",
    "Dentro deste cenário, observamos que não podemos afirmar como fator decisivo de sobrevivência, a relação de classe e passageiros do gênero masculino. Verificamos que para os homens, olhando apenas sobre este prisma, a classe não foi um fator determinante para a sobrevivência."
   ]
  },
  {
   "cell_type": "code",
   "execution_count": 422,
   "metadata": {},
   "outputs": [
    {
     "data": {
      "text/plain": [
       "Pclass\n",
       "1    5.050505\n",
       "2    1.907969\n",
       "3    5.274972\n",
       "Name: Survived, dtype: float64"
      ]
     },
     "execution_count": 422,
     "metadata": {},
     "output_type": "execute_result"
    }
   ],
   "source": [
    "# Proporção de sobreviventes Homens por classe\n",
    "df_titanic_s_h.groupby('Pclass').count()['Survived'] / df_titanic.count()['Survived'] * 100"
   ]
  },
  {
   "cell_type": "code",
   "execution_count": 423,
   "metadata": {},
   "outputs": [
    {
     "data": {
      "image/png": "[encoded data removed]",
      "text/plain": [
       "<matplotlib.figure.Figure at 0x11c8d59e8>"
      ]
     },
     "metadata": {},
     "output_type": "display_data"
    }
   ],
   "source": [
    "# Grafico de barras\n",
    "df = (df_titanic_s_h.groupby('Pclass').count()['Survived'] / df_titanic.count()['Survived'] * 100).tolist()\n",
    "plt.bar([1,2,3], df, color=['darkslategrey','steelblue', 'slategrey'])\n",
    "plt.xticks([1,2,3],['1.ª','2.ª', '3.ª'])\n",
    "plt.title('Proporção de Homens sobreviventes por Classe \\n pelo Total de passageiros')\n",
    "plt.xlabel('Classe')\n",
    "plt.ylabel('Percentual');"
   ]
  },
  {
   "cell_type": "markdown",
   "metadata": {},
   "source": [
    "No gráfico acima observa-se uma disposição proporcional semelhante na relação de sobreviventes **homens** por classe (gráfico anterior). Mantém-se nesta segunda visão, que os sobreviventes da 3.ª classe são em proporção, superiores aos sobreviventes das demais classes."
   ]
  },
  {
   "cell_type": "code",
   "execution_count": 424,
   "metadata": {},
   "outputs": [
    {
     "data": {
      "image/png": "[encoded data removed]",
      "text/plain": [
       "<matplotlib.figure.Figure at 0x11b67bc88>"
      ]
     },
     "metadata": {},
     "output_type": "display_data"
    }
   ],
   "source": [
    "# Grafico comparativo de homens sobreviventes x mortos por classe\n",
    "df_s = (df_titanic_s_h.groupby('Pclass').count()['Survived'] / df_titanic_s_h.count()['Survived'] * 100).tolist()\n",
    "df_m = (df_titanic_m_h.groupby('Pclass').count()['Survived'] / df_titanic_m_h.count()['Survived'] * 100).tolist()\n",
    "plt.bar([1,4,7], df_s, color=['steelblue'], label='Sobreviventes')\n",
    "plt.bar([1.8,4.8,7.8], df_m, color=['darkred'], label='Mortos')\n",
    "plt.xticks([1.4,4.4,7.4],['1.ª','2.ª','3.ª'])\n",
    "plt.legend()\n",
    "plt.title('Comparativo de homens sobreviventes x mortos \\n por classe')\n",
    "plt.xlabel('Classe')\n",
    "plt.ylabel('Percentual');"
   ]
  },
  {
   "cell_type": "markdown",
   "metadata": {},
   "source": [
    "### Conclusões sobre a relação entre sobrevivência e morte dos passageiros homens\n",
    "Nesta visao, fica fácil perceber que mesmo tendo um grande número de sobreviventes na 3.ª classe, a 1.ª classe teve melhor taxa de sobrevivencia se comparando com as mortes. A 2.ª classe, mesmo tendo o número de mortos maior que o de sobrevivenetes, ainda se mantém em posição melhor se compararmos os números da 3.ª classe, que teve um numero muito mais expressivo de mortes.\n",
    "\n",
    "Apesar de nas visoes anteriores, proporcionalmente dentro da 3.ª classe, o número de sobreviventes em relação às demais classes foi maior, aqui fica claro que a classe entre os homens foi um fator determinante para a sobrevivencia.\n",
    "\n",
    "Observa-se que a 2.ª classe teve o pior resultado proporcional, tendo em vista que o número de sobreviventes e mortos ficaram próximos. Já a 1.ª classe teve o melhor resultado se comparamos os números de sobreviventes x mortos.\n",
    "\n",
    "#### Estatísticas:\n",
    "- Total de passageiros = 891\n",
    "- Total de sobreviventes = 342 (38%)\n",
    "- Sobreviventes Homens = 109 (12%)\n",
    "***\n",
    "- Total de passageiros na 1.ª Classe = 216\n",
    "- Total de passageiros na 2.ª Classe = 184\n",
    "- Total de passageiros na 3.ª Classe = 491\n",
    "***\n",
    "- Sobreviventes na 1.ª Classe = 136 (39.7%)\n",
    "- Sobreviventes na 2.ª Classe =  87 (25.4%)\n",
    "- Sobreviventes na 3.ª Classe = 119 (34.8%)\n",
    "***\n",
    "- Mortos na 1.ª Classe =  80 (14.5%)\n",
    "- Mortos na 2.ª Classe =  97 (17.6%)\n",
    "- Mortos na 3.ª Classe = 372 (67.8%)\n",
    "***\n",
    "- Sobreviventes ***homens*** na 1.ª Classe = 45 (41.3%)\n",
    "- Sobreviventes ***homens*** na 2.ª Classe = 17 (15.6%)\n",
    "- Sobreviventes ***homens*** na 3.ª Classe = 47 (43.1%)\n",
    "***\n",
    "- Mortos ***homens*** na 1.ª Classe =  77 (16.5%)\n",
    "- Mortos ***homens*** na 2.ª Classe =  91 (19.4%)\n",
    "- Mortos ***homens*** na 3.ª Classe = 300 (64.1%)"
   ]
  },
  {
   "cell_type": "code",
   "execution_count": 425,
   "metadata": {},
   "outputs": [
    {
     "data": {
      "text/plain": [
       "Pclass\n",
       "1    91\n",
       "2    70\n",
       "3    72\n",
       "Name: Survived, dtype: int64"
      ]
     },
     "execution_count": 425,
     "metadata": {},
     "output_type": "execute_result"
    }
   ],
   "source": [
    "# Sobreviventes Mulheres por Classe\n",
    "df_titanic_s_m.groupby('Pclass').count()['Survived']"
   ]
  },
  {
   "cell_type": "markdown",
   "metadata": {},
   "source": [
    "Nota: A maioria das mulheres sobreviventes está na 1.ª classe. Porém, observa-se que as demais classes mativeram um número muito aproximado de sobreviventes."
   ]
  },
  {
   "cell_type": "code",
   "execution_count": 426,
   "metadata": {},
   "outputs": [
    {
     "data": {
      "text/plain": [
       "Pclass\n",
       "1     3\n",
       "2     6\n",
       "3    72\n",
       "Name: Survived, dtype: int64"
      ]
     },
     "execution_count": 426,
     "metadata": {},
     "output_type": "execute_result"
    }
   ],
   "source": [
    "# Mortos Mulheres por Classe\n",
    "df_titanic_m_m.groupby('Pclass').count()['Survived']"
   ]
  },
  {
   "cell_type": "markdown",
   "metadata": {},
   "source": [
    "Nota: Para as mulheres, a classe também foi um fator determinantes no número de mortes."
   ]
  },
  {
   "cell_type": "code",
   "execution_count": 427,
   "metadata": {},
   "outputs": [
    {
     "data": {
      "text/plain": [
       "Pclass\n",
       "1    39.055794\n",
       "2    30.042918\n",
       "3    30.901288\n",
       "Name: Survived, dtype: float64"
      ]
     },
     "execution_count": 427,
     "metadata": {},
     "output_type": "execute_result"
    }
   ],
   "source": [
    "# Proporção de Mulheres Sobreviventes por Classe\n",
    "df_titanic_s_m.groupby('Pclass').count()['Survived'] / df_titanic_s_m.count()['Survived'] * 100"
   ]
  },
  {
   "cell_type": "code",
   "execution_count": 428,
   "metadata": {},
   "outputs": [
    {
     "data": {
      "text/plain": [
       "Pclass\n",
       "1     3.703704\n",
       "2     7.407407\n",
       "3    88.888889\n",
       "Name: Survived, dtype: float64"
      ]
     },
     "execution_count": 428,
     "metadata": {},
     "output_type": "execute_result"
    }
   ],
   "source": [
    "# Proporção de Mulheres Mortas por Classe\n",
    "df_titanic_m_m.groupby('Pclass').count()['Survived'] / df_titanic_m_m.count()['Survived'] * 100"
   ]
  },
  {
   "cell_type": "code",
   "execution_count": 429,
   "metadata": {},
   "outputs": [
    {
     "data": {
      "image/png": "[encoded data removed]",
      "text/plain": [
       "<matplotlib.figure.Figure at 0x11b939a90>"
      ]
     },
     "metadata": {},
     "output_type": "display_data"
    }
   ],
   "source": [
    "# Grafico de barras\n",
    "df = (df_titanic_s_m.groupby('Pclass').count()['Survived'] / df_titanic_s_m.count()['Survived'] * 100).tolist()\n",
    "plt.bar([1,2,3], df, color=['darkslategrey','steelblue', 'slategrey'])\n",
    "plt.xticks([1,2,3],['1.ª','2.ª', '3.ª'])\n",
    "plt.title('Proporção Mulheres sobreviventes por Classe')\n",
    "plt.xlabel('Classe')\n",
    "plt.ylabel('Percentual');"
   ]
  },
  {
   "cell_type": "markdown",
   "metadata": {},
   "source": [
    "Observamos que dentre as passageiras **mulheres** que sobreviveram, aquelas da 1.ª classe foram as que proporcionalmente, mais sobreviveram (**39.1%**), enquanto ***30%*** na 2.ª classe e ***30.9%*** sobreviveram na 3.ª classe. Podemos notar que os valores proporcionalmente ficaram bem próximos, e que a classe, não foi essencialmente o fator decisivo de sobrevivência, se olharmos por esta visão."
   ]
  },
  {
   "cell_type": "code",
   "execution_count": 430,
   "metadata": {},
   "outputs": [
    {
     "data": {
      "text/plain": [
       "Pclass\n",
       "1    10.213244\n",
       "2     7.856341\n",
       "3     8.080808\n",
       "Name: Survived, dtype: float64"
      ]
     },
     "execution_count": 430,
     "metadata": {},
     "output_type": "execute_result"
    }
   ],
   "source": [
    "df_titanic_s_m.groupby('Pclass').count()['Survived'] / df_titanic.count()['Survived'] * 100"
   ]
  },
  {
   "cell_type": "code",
   "execution_count": 431,
   "metadata": {},
   "outputs": [
    {
     "data": {
      "image/png": "[encoded data removed]",
      "text/plain": [
       "<matplotlib.figure.Figure at 0x11ba394a8>"
      ]
     },
     "metadata": {},
     "output_type": "display_data"
    }
   ],
   "source": [
    "# Grafico de barras\n",
    "df = (df_titanic_s_m.groupby('Pclass').count()['Survived'] / df_titanic.count()['Survived'] * 100).tolist()\n",
    "plt.bar([1,2,3], df, color=['darkslategrey','steelblue', 'slategrey'])\n",
    "plt.xticks([1,2,3],['1.ª','2.ª', '3.ª'])\n",
    "plt.title('Proporção de Mulheres sobreviventes por Classe \\n pelo Total de passageiros')\n",
    "plt.xlabel('Classe')\n",
    "plt.ylabel('Percentual');"
   ]
  },
  {
   "cell_type": "markdown",
   "metadata": {},
   "source": [
    "No gráfico acima observa-se uma disposição proporcional semelhante em relação de sobreviventes de **mulheres** por classe (gráfico anterior). Verificamos nesta segunda visão, que os sobreviventes da 1.ª classe são em proporção, superiores aos sobreviventes das demais classes. Tendo a 2.ª classe o pior percentual de sobreviventes."
   ]
  },
  {
   "cell_type": "code",
   "execution_count": 432,
   "metadata": {},
   "outputs": [
    {
     "data": {
      "image/png": "[encoded data removed]",
      "text/plain": [
       "<matplotlib.figure.Figure at 0x11ae4e9b0>"
      ]
     },
     "metadata": {},
     "output_type": "display_data"
    }
   ],
   "source": [
    "# Grafico comparativo de mulheres sobreviventes x mortos por classe\n",
    "df_s = (df_titanic_s_m.groupby('Pclass').count()['Survived'] / df_titanic_s_m.count()['Survived'] * 100).tolist()\n",
    "df_m = (df_titanic_m_m.groupby('Pclass').count()['Survived'] / df_titanic_m_m.count()['Survived'] * 100).tolist()\n",
    "plt.bar([1,4,7], df_s, color=['steelblue'], label='Sobreviventes')\n",
    "plt.bar([1.8,4.8,7.8], df_m, color=['darkred'], label='Mortos')\n",
    "plt.xticks([1.4,4.4,7.4],['1.ª','2.ª','3.ª'])\n",
    "plt.legend()\n",
    "plt.title('Comparativo de Mulheres sobreviventes x mortas \\n por classe')\n",
    "plt.xlabel('Classe')\n",
    "plt.ylabel('Percentual');"
   ]
  },
  {
   "cell_type": "markdown",
   "metadata": {},
   "source": [
    "### Conclusões sobre a relação entre sobrevivência e morte dos passageiras mulheres por Classe\n",
    "A conclusão que se chega é que proporcionalmente dentro das classes mais altas, o número de sobreviventes em relação à 3.ª classe foi mais relevante, mas não determinante. Os valores ficaram próximos proporcionalmente. \n",
    "\n",
    "Porém, quando observamos o comparativo de mortes nota-se que para a 3.ª classe, foi um valor substancial, o pior resultado. Muitas mulheres da 3.ª classe não conseguiram sobreviver (**89%**). Portanto para as mulheres, a classe foi um fator determinante no número de mortes, pois há uma enorme diferença entre as classes altas e a 3.ª classe.\n",
    "\n",
    "#### Estatísticas:\n",
    "- Total de passageiros = 891\n",
    "- Total de sobreviventes = 342 (38%)\n",
    "- Sobreviventes Mulheres = 233 (26%)\n",
    "***\n",
    "- Total de passageiros na 1.ª Classe = 216\n",
    "- Total de passageiros na 2.ª Classe = 184\n",
    "- Total de passageiros na 3.ª Classe = 491\n",
    "***\n",
    "- Sobreviventes na 1.ª Classe = 136 (39.7%)\n",
    "- Sobreviventes na 2.ª Classe =  87 (25.4%)\n",
    "- Sobreviventes na 3.ª Classe = 119 (34.8%)\n",
    "***\n",
    "- Mortos na 1.ª Classe =  80 (14.5%)\n",
    "- Mortos na 2.ª Classe =  97 (17.6%)\n",
    "- Mortos na 3.ª Classe = 372 (67.8%)\n",
    "***\n",
    "- Sobreviventes ***mulheres*** na 1.ª Classe = 91 (39.1%)\n",
    "- Sobreviventes ***mulheres*** na 2.ª Classe = 70 (30.0%)\n",
    "- Sobreviventes ***mulheres*** na 3.ª Classe = 72 (30.9%)\n",
    "***\n",
    "- Mortos ***mulheres*** na 1.ª Classe =   3 ( 3.7%)\n",
    "- Mortos ***mulheres*** na 2.ª Classe =   6 ( 7.4%)\n",
    "- Mortos ***mulheres*** na 3.ª Classe =  72 (88.9%)"
   ]
  },
  {
   "cell_type": "markdown",
   "metadata": {},
   "source": [
    "### Sobreviventes e Mortos por Faixa Etária (Idade) \n",
    "- Sobreviventes e Mortos por faixa etária \n",
    "- Homens e Mulheres por Idade  \n",
    "- Relação entre a Idade e o Valor Pago na Passagem \n",
    "- Outliers"
   ]
  },
  {
   "cell_type": "markdown",
   "metadata": {},
   "source": [
    "### Total de Sobreviventes e Mortos\n",
    "- ```df_titanic_s['Age'].count()``` #342\n",
    "- ```df_titanic_m['Age'].count()``` #577\n",
    "\n",
    "### % de Sobreviventes e Mortos\n",
    "- ```df_titanic_s.groupby('Survived').count()['Age'] / df_titanic.count()['Survived'] * 100``` #38.383838\n",
    "- ```df_titanic_m.groupby('Survived').count()['Age'] / df_titanic.count()['Survived'] * 100``` #61.616162\n"
   ]
  },
  {
   "cell_type": "code",
   "execution_count": 433,
   "metadata": {},
   "outputs": [
    {
     "data": {
      "image/png": "[encoded data removed]",
      "text/plain": [
       "<matplotlib.figure.Figure at 0x11cd1d588>"
      ]
     },
     "metadata": {},
     "output_type": "display_data"
    },
    {
     "data": {
      "image/png": "[encoded data removed]",
      "text/plain": [
       "<matplotlib.figure.Figure at 0x11ceb8fd0>"
      ]
     },
     "metadata": {},
     "output_type": "display_data"
    },
    {
     "data": {
      "image/png": "[encoded data removed]",
      "text/plain": [
       "<matplotlib.figure.Figure at 0x11ceb8d30>"
      ]
     },
     "metadata": {},
     "output_type": "display_data"
    }
   ],
   "source": [
    "# Gráfico de Distribuição de sobreviventes por idade (Histograma)\n",
    "fig, ax = plt.subplots(figsize=(8,6))\n",
    "ax.hist(df_titanic_s['Age'], alpha=0.5, label='Sobreviventes')\n",
    "ax.hist(df_titanic_m['Age'], alpha=0.5, label='Mortos')\n",
    "ax.set_title('Distribuição de sobreviventes e Mortos por Faixa Etária')\n",
    "ax.set_xlabel('Idade')\n",
    "ax.set_ylabel('Totais')\n",
    "ax.legend(loc='upper right')\n",
    "plt.show()\n",
    "\n",
    "# Sobreviventes\n",
    "plt.hist(df_titanic_s['Age'], bins=12)\n",
    "plt.title('Distribuição de sobreviventes por Faixa Etária')\n",
    "plt.xlabel('Idade')\n",
    "plt.ylabel('Frequencia')\n",
    "plt.show()\n",
    "\n",
    "# Mortos\n",
    "plt.hist(df_titanic_m['Age'], bins=12)\n",
    "plt.title('Distribuição de Mortos por Faixa Etária')\n",
    "plt.xlabel('Idade')\n",
    "plt.ylabel('Frequencia')\n",
    "plt.show()"
   ]
  },
  {
   "cell_type": "markdown",
   "metadata": {},
   "source": [
    "Observa-se que a grande maioria de mortos (61.1% contra 38.4% de sobreviventes), está dentro da faixa etária média (**28.5** anos) entre 20 e 30 anos. Um pequeno grupo de passageiros entre pouco mais de 70 a 80 anos sobreviveram."
   ]
  },
  {
   "cell_type": "code",
   "execution_count": 434,
   "metadata": {},
   "outputs": [
    {
     "data": {
      "image/png": "[encoded data removed]",
      "text/plain": [
       "<matplotlib.figure.Figure at 0x11cc4f470>"
      ]
     },
     "metadata": {},
     "output_type": "display_data"
    }
   ],
   "source": [
    "# Gráfico de Distribuição de sobreviventes homens x mulheres por Idade\n",
    "fig, ax = plt.subplots(figsize=(8,6))\n",
    "ax.hist(df_titanic_s_h['Age'], alpha=0.5, label='Homens')\n",
    "ax.hist(df_titanic_s_m['Age'], alpha=0.5, label='Mulheres')\n",
    "ax.set_title('Distribuição de sobreviventes Homens e Mulheres por Faixa Etária')\n",
    "ax.set_xlabel('Idade')\n",
    "ax.set_ylabel('Frequencia')\n",
    "ax.legend(loc='upper right')\n",
    "plt.show()"
   ]
  },
  {
   "cell_type": "markdown",
   "metadata": {},
   "source": [
    "As crianças entre 0 a pouco mais de 10 anos (meninos e meninas) tiveram praticamente o mesmo número de sobreviventes.\n",
    "\n",
    "O Total de sobreviventes mulheres com pouco mais de 10 anos até a faixa dos 60 foi bem superior ao total de homens sobreviventes, tendo como a faixa dos 30 anos (média de **28.9** anos para as mulheres sobreviventes) aquela teve o maior número de sobreviventes. Alguns poucos passageiros homens na faixa dos 70-80 anos sobreviveram.\n",
    "\n",
    "**Concluímos aqui que realmente mulheres e crianças salvaram-se primeiro.**"
   ]
  },
  {
   "cell_type": "markdown",
   "metadata": {},
   "source": [
    "### Correlação de Mortos entre Classe e Faixa Etária"
   ]
  },
  {
   "cell_type": "code",
   "execution_count": 435,
   "metadata": {},
   "outputs": [
    {
     "data": {
      "image/png": "[encoded data removed]",
      "text/plain": [
       "<matplotlib.figure.Figure at 0x11cfeb5f8>"
      ]
     },
     "metadata": {},
     "output_type": "display_data"
    }
   ],
   "source": [
    "# Gráfico de correlação de morte entre Classe e Faixa Etária\n",
    "plt.scatter(df_titanic_m['Pclass'], df_titanic_m['Age'], alpha=0.3, c=df_titanic_m['Age'], s=df_titanic_m['Age'])\n",
    "plt.title('Correlação de Mortes entre Classe e Faixa Etária')\n",
    "plt.xticks([1,2,3], ['1.ª','2.ª','3.ª'])\n",
    "plt.xlabel('Classe')\n",
    "plt.ylabel('Idade')\n",
    "plt.show()"
   ]
  },
  {
   "cell_type": "markdown",
   "metadata": {},
   "source": [
    "O gráfico acima demonstra a distribuição de classes por faixa etária. Observa-se o grande número de crianças na 3.ª classe, onde apesar do índice de mortes ter sido alto, muitas crianças foram salvas."
   ]
  },
  {
   "cell_type": "markdown",
   "metadata": {},
   "source": [
    "## Relações envolvendo o Valor da Tarifa (Fare)"
   ]
  },
  {
   "cell_type": "markdown",
   "metadata": {},
   "source": [
    "### Classe e Tarifa\n",
    "\n",
    "Podemos verificar a relação entre Classe e o valor pago pela Tarifa. A média de custo da tarifa foi de \\$32.2"
   ]
  },
  {
   "cell_type": "code",
   "execution_count": 436,
   "metadata": {},
   "outputs": [
    {
     "data": {
      "text/plain": [
       "32.2042079685746"
      ]
     },
     "execution_count": 436,
     "metadata": {},
     "output_type": "execute_result"
    }
   ],
   "source": [
    "# Tarifa Média\n",
    "df_titanic['Fare'].mean()"
   ]
  },
  {
   "cell_type": "code",
   "execution_count": 437,
   "metadata": {},
   "outputs": [
    {
     "data": {
      "text/plain": [
       "Pclass\n",
       "1    84.154687\n",
       "2    20.662183\n",
       "3    13.675550\n",
       "Name: Fare, dtype: float64"
      ]
     },
     "execution_count": 437,
     "metadata": {},
     "output_type": "execute_result"
    }
   ],
   "source": [
    "# Valor médio da tarifa\n",
    "df_titanic.groupby(['Pclass']).mean()['Fare']"
   ]
  },
  {
   "cell_type": "markdown",
   "metadata": {},
   "source": [
    "### Idade e Tarifa\n",
    "Observa-se a distribuição da Tarifa pela Faixa Etária"
   ]
  },
  {
   "cell_type": "code",
   "execution_count": 478,
   "metadata": {},
   "outputs": [
    {
     "data": {
      "image/png": "[encoded data removed]",
      "text/plain": [
       "<matplotlib.figure.Figure at 0x114ed6898>"
      ]
     },
     "metadata": {},
     "output_type": "display_data"
    }
   ],
   "source": [
    "# Relação entre a idade e o valor pago da Tarifa\n",
    "plt.scatter(df_titanic['Age'], df_titanic['Fare'], alpha=0.5, c=df_titanic['Fare'], s=df_titanic['Fare'])\n",
    "plt.hlines(y=0, xmin=df_titanic['Age'].min(), xmax=df_titanic['Age'].max(), color='red')\n",
    "plt.title('Gráfico de dispersão para as variáveis \\n Faixa Etária e Tarifa')\n",
    "plt.xlabel('Idade')\n",
    "plt.ylabel('Tarifa')\n",
    "plt.show()"
   ]
  },
  {
   "cell_type": "markdown",
   "metadata": {},
   "source": [
    "#### Nota-se o quanto a correlação é fraca entre `Age` e `Fare`: 0.09 (positiva e fraca)"
   ]
  },
  {
   "cell_type": "code",
   "execution_count": 476,
   "metadata": {},
   "outputs": [
    {
     "data": {
      "text/html": [
       "<div>\n",
       "<style scoped>\n",
       "    .dataframe tbody tr th:only-of-type {\n",
       "        vertical-align: middle;\n",
       "    }\n",
       "\n",
       "    .dataframe tbody tr th {\n",
       "        vertical-align: top;\n",
       "    }\n",
       "\n",
       "    .dataframe thead th {\n",
       "        text-align: right;\n",
       "    }\n",
       "</style>\n",
       "<table border=\"1\" class=\"dataframe\">\n",
       "  <thead>\n",
       "    <tr style=\"text-align: right;\">\n",
       "      <th></th>\n",
       "      <th>Age</th>\n",
       "      <th>Fare</th>\n",
       "    </tr>\n",
       "  </thead>\n",
       "  <tbody>\n",
       "    <tr>\n",
       "      <th>Age</th>\n",
       "      <td>1.000000</td>\n",
       "      <td>0.091566</td>\n",
       "    </tr>\n",
       "    <tr>\n",
       "      <th>Fare</th>\n",
       "      <td>0.091566</td>\n",
       "      <td>1.000000</td>\n",
       "    </tr>\n",
       "  </tbody>\n",
       "</table>\n",
       "</div>"
      ],
      "text/plain": [
       "           Age      Fare\n",
       "Age   1.000000  0.091566\n",
       "Fare  0.091566  1.000000"
      ]
     },
     "execution_count": 476,
     "metadata": {},
     "output_type": "execute_result"
    }
   ],
   "source": [
    "# Verificando a correlação entre as duas variáveis: Age e Fare\n",
    "df_titanic[['Age', 'Fare']].corr()"
   ]
  },
  {
   "cell_type": "markdown",
   "metadata": {},
   "source": [
    "No gráfico de dispersão acima, observa-se que não há uma correlação direta entre idade e o valor pago na tarifa, contudo indica que as passagens mais caras foram adquiridas pelas faixas de idades entre 30-40 anos (cor amarela), e uma faixa de 20-50 com valores acima de \\$200 (cor verde), porém a grande maioria dos passageiros adquiriu as tafifas mais baratas (abaixo de \\$100), indicando que além das classes mais baixas pagaram também, a 2.ª e a 3.ª classe, dentro da média de valores (\\$32). A linha de melhor ajuste, ou linha de regressão linear, na horizontal atesta a não correlação entre as variáveis."
   ]
  },
  {
   "cell_type": "markdown",
   "metadata": {},
   "source": [
    "### Valor total da Tarifa agrupado por Classe, Local de Embarque (porto) e Gênero"
   ]
  },
  {
   "cell_type": "code",
   "execution_count": 439,
   "metadata": {},
   "outputs": [
    {
     "data": {
      "text/plain": [
       "Pclass  Embarked  Sex   \n",
       "1       C         female     43\n",
       "                  male       42\n",
       "        Q         female      1\n",
       "                  male        1\n",
       "        S         female     50\n",
       "                  male       79\n",
       "2       C         female      7\n",
       "                  male       10\n",
       "        Q         female      2\n",
       "                  male        1\n",
       "        S         female     67\n",
       "                  male       97\n",
       "3       C         female     23\n",
       "                  male       43\n",
       "        Q         female     33\n",
       "                  male       39\n",
       "        S         female     88\n",
       "                  male      265\n",
       "Name: Name, dtype: int64"
      ]
     },
     "execution_count": 439,
     "metadata": {},
     "output_type": "execute_result"
    }
   ],
   "source": [
    "# Agrupamento por Classe, Porto e Gênero (contagem de passageiros)\n",
    "df_titanic.groupby(by=['Pclass', 'Embarked', 'Sex'])['Name'].count()"
   ]
  },
  {
   "cell_type": "code",
   "execution_count": 440,
   "metadata": {},
   "outputs": [
    {
     "data": {
      "text/plain": [
       "Pclass  Embarked     Sex   \n",
       "1       Cherbourg    female    4972.5333\n",
       "                     male      3928.5417\n",
       "        Queenstown   female      90.0000\n",
       "                     male        90.0000\n",
       "        Southampton  female    4913.2917\n",
       "                     male      4183.0458\n",
       "2       Cherbourg    female     176.8792\n",
       "                     male       254.2125\n",
       "        Queenstown   female      24.7000\n",
       "                     male        12.3500\n",
       "        Southampton  female    1468.1500\n",
       "                     male      1865.5500\n",
       "3       Cherbourg    female     337.9833\n",
       "                     male       402.1462\n",
       "        Queenstown   female     340.1585\n",
       "                     male       465.0458\n",
       "        Southampton  female    1642.9668\n",
       "                     male      3526.3945\n",
       "Name: Fare, dtype: float64"
      ]
     },
     "execution_count": 440,
     "metadata": {},
     "output_type": "execute_result"
    }
   ],
   "source": [
    "# Agrupamento por Classe, Porto e Gênero (soma das tarifas)\n",
    "df_titanic['Embarked'] = df_titanic['Embarked'].replace(['C','Q','S'],['Cherbourg','Queenstown','Southampton'])\n",
    "df_titanic.groupby(by=['Pclass', 'Embarked', 'Sex'])['Fare'].sum()"
   ]
  },
  {
   "cell_type": "markdown",
   "metadata": {},
   "source": [
    "#### Embarque (porto) x Classe\n",
    "- Predominância de embarque nos portos por classe:\n",
    "  - 1.ª classe predominatemente de passageiros que embarcaram em \"Cherbourg\" e \"Southampton\";\n",
    "  - 2.ª classe embarques em \"Southampton\" predominantemente;\n",
    "  - 3.ª classe embarques em \"Southampton\" e \"Queenstown\"."
   ]
  },
  {
   "cell_type": "markdown",
   "metadata": {},
   "source": [
    "### Relação entre sobrevivência e tarifa não paga (gratuidade)\n",
    "Aqueles que não pagaram tarifa sobreviveram? Nome dos sobreviventes?"
   ]
  },
  {
   "cell_type": "code",
   "execution_count": 444,
   "metadata": {},
   "outputs": [
    {
     "data": {
      "text/plain": [
       "['Leonard, Mr. Lionel',\n",
       " 'Harrison, Mr. William',\n",
       " 'Tornquist, Mr. William Henry',\n",
       " 'Parkes, Mr. Francis \"Frank\"',\n",
       " 'Johnson, Mr. William Cahoone Jr',\n",
       " 'Cunningham, Mr. Alfred Fleming',\n",
       " 'Campbell, Mr. William',\n",
       " 'Frost, Mr. Anthony Wood \"Archie\"',\n",
       " 'Johnson, Mr. Alfred',\n",
       " 'Parr, Mr. William Henry Marsh',\n",
       " 'Watson, Mr. Ennis Hastings',\n",
       " 'Knight, Mr. Robert J',\n",
       " 'Andrews, Mr. Thomas Jr',\n",
       " 'Fry, Mr. Richard',\n",
       " 'Reuchlin, Jonkheer. John George']"
      ]
     },
     "execution_count": 444,
     "metadata": {},
     "output_type": "execute_result"
    }
   ],
   "source": [
    "df_titanic[df_titanic['Fare'] == 0]['Name'].tolist()"
   ]
  },
  {
   "cell_type": "code",
   "execution_count": 445,
   "metadata": {},
   "outputs": [
    {
     "data": {
      "text/plain": [
       "Name                              Age        Sex   Survived  Pclass\n",
       "Andrews, Mr. Thomas Jr            39.000000  male  0         1         0.0\n",
       "Campbell, Mr. William             29.699118  male  0         2         0.0\n",
       "Cunningham, Mr. Alfred Fleming    29.699118  male  0         2         0.0\n",
       "Frost, Mr. Anthony Wood \"Archie\"  29.699118  male  0         2         0.0\n",
       "Fry, Mr. Richard                  29.699118  male  0         1         0.0\n",
       "Harrison, Mr. William             40.000000  male  0         1         0.0\n",
       "Johnson, Mr. Alfred               49.000000  male  0         3         0.0\n",
       "Johnson, Mr. William Cahoone Jr   19.000000  male  0         3         0.0\n",
       "Knight, Mr. Robert J              29.699118  male  0         2         0.0\n",
       "Leonard, Mr. Lionel               36.000000  male  0         3         0.0\n",
       "Parkes, Mr. Francis \"Frank\"       29.699118  male  0         2         0.0\n",
       "Parr, Mr. William Henry Marsh     29.699118  male  0         1         0.0\n",
       "Reuchlin, Jonkheer. John George   38.000000  male  0         1         0.0\n",
       "Tornquist, Mr. William Henry      25.000000  male  1         3         0.0\n",
       "Watson, Mr. Ennis Hastings        29.699118  male  0         2         0.0\n",
       "Name: Fare, dtype: float64"
      ]
     },
     "execution_count": 445,
     "metadata": {},
     "output_type": "execute_result"
    }
   ],
   "source": [
    "# Listagem dos não pagantes (tarifa = 0)\n",
    "df_titanic[df_titanic['Fare'] == 0].groupby(by=['Name', 'Age', 'Sex', 'Survived', 'Pclass'])['Fare'].sum()"
   ]
  },
  {
   "cell_type": "code",
   "execution_count": 446,
   "metadata": {},
   "outputs": [
    {
     "data": {
      "text/plain": [
       "32.2395294117647"
      ]
     },
     "execution_count": 446,
     "metadata": {},
     "output_type": "execute_result"
    }
   ],
   "source": [
    "# Media de idade dos passageiros não pagantes (tarifa = 0)\n",
    "df_titanic[df_titanic['Fare'] == 0].mean()['Age']"
   ]
  },
  {
   "cell_type": "code",
   "execution_count": 447,
   "metadata": {},
   "outputs": [
    {
     "data": {
      "text/plain": [
       "271    Tornquist, Mr. William Henry\n",
       "Name: Name, dtype: object"
      ]
     },
     "execution_count": 447,
     "metadata": {},
     "output_type": "execute_result"
    }
   ],
   "source": [
    "# Preparação dos dados de passageiros que não tiveram a tarifa cobrada\n",
    "df_titanic_zerofare = df_titanic[df_titanic['Fare'] == 0]\n",
    "\n",
    "# Nome dos passageiros que não tiveram a tarifa cobrada e sobreviveram\n",
    "df_titanic_zerofare[df_titanic_zerofare['Survived'] == 1]['Name']"
   ]
  },
  {
   "cell_type": "markdown",
   "metadata": {},
   "source": [
    "Nota: Mr. William Henry Tornquist foi o único sobrevivente que não pagou tarifa."
   ]
  },
  {
   "cell_type": "markdown",
   "metadata": {},
   "source": [
    "### Curiosidade: Outliers são os mais idosos"
   ]
  },
  {
   "cell_type": "code",
   "execution_count": 454,
   "metadata": {},
   "outputs": [
    {
     "data": {
      "image/png": "[encoded data removed]",
      "text/plain": [
       "<matplotlib.figure.Figure at 0x11d30ad68>"
      ]
     },
     "metadata": {},
     "output_type": "display_data"
    }
   ],
   "source": [
    "# Age Boxplot: Identificando outliers\n",
    "ax = df_titanic_s['Age'].plot(kind='box', title='Identificando outliers por idade')\n",
    "ax.set_ylabel(\"Idade\");"
   ]
  },
  {
   "cell_type": "code",
   "execution_count": 455,
   "metadata": {},
   "outputs": [
    {
     "data": {
      "text/html": [
       "<div>\n",
       "<style scoped>\n",
       "    .dataframe tbody tr th:only-of-type {\n",
       "        vertical-align: middle;\n",
       "    }\n",
       "\n",
       "    .dataframe tbody tr th {\n",
       "        vertical-align: top;\n",
       "    }\n",
       "\n",
       "    .dataframe thead th {\n",
       "        text-align: right;\n",
       "    }\n",
       "</style>\n",
       "<table border=\"1\" class=\"dataframe\">\n",
       "  <thead>\n",
       "    <tr style=\"text-align: right;\">\n",
       "      <th></th>\n",
       "      <th>Survived</th>\n",
       "      <th>Pclass</th>\n",
       "      <th>Sex</th>\n",
       "      <th>Age</th>\n",
       "    </tr>\n",
       "  </thead>\n",
       "  <tbody>\n",
       "    <tr>\n",
       "      <th>11</th>\n",
       "      <td>1</td>\n",
       "      <td>1</td>\n",
       "      <td>female</td>\n",
       "      <td>58.0</td>\n",
       "    </tr>\n",
       "    <tr>\n",
       "      <th>15</th>\n",
       "      <td>1</td>\n",
       "      <td>2</td>\n",
       "      <td>female</td>\n",
       "      <td>55.0</td>\n",
       "    </tr>\n",
       "    <tr>\n",
       "      <th>195</th>\n",
       "      <td>1</td>\n",
       "      <td>1</td>\n",
       "      <td>female</td>\n",
       "      <td>58.0</td>\n",
       "    </tr>\n",
       "    <tr>\n",
       "      <th>268</th>\n",
       "      <td>1</td>\n",
       "      <td>1</td>\n",
       "      <td>female</td>\n",
       "      <td>58.0</td>\n",
       "    </tr>\n",
       "    <tr>\n",
       "      <th>275</th>\n",
       "      <td>1</td>\n",
       "      <td>1</td>\n",
       "      <td>female</td>\n",
       "      <td>63.0</td>\n",
       "    </tr>\n",
       "    <tr>\n",
       "      <th>366</th>\n",
       "      <td>1</td>\n",
       "      <td>1</td>\n",
       "      <td>female</td>\n",
       "      <td>60.0</td>\n",
       "    </tr>\n",
       "    <tr>\n",
       "      <th>483</th>\n",
       "      <td>1</td>\n",
       "      <td>3</td>\n",
       "      <td>female</td>\n",
       "      <td>63.0</td>\n",
       "    </tr>\n",
       "    <tr>\n",
       "      <th>570</th>\n",
       "      <td>1</td>\n",
       "      <td>2</td>\n",
       "      <td>male</td>\n",
       "      <td>62.0</td>\n",
       "    </tr>\n",
       "    <tr>\n",
       "      <th>587</th>\n",
       "      <td>1</td>\n",
       "      <td>1</td>\n",
       "      <td>male</td>\n",
       "      <td>60.0</td>\n",
       "    </tr>\n",
       "    <tr>\n",
       "      <th>630</th>\n",
       "      <td>1</td>\n",
       "      <td>1</td>\n",
       "      <td>male</td>\n",
       "      <td>80.0</td>\n",
       "    </tr>\n",
       "    <tr>\n",
       "      <th>647</th>\n",
       "      <td>1</td>\n",
       "      <td>1</td>\n",
       "      <td>male</td>\n",
       "      <td>56.0</td>\n",
       "    </tr>\n",
       "    <tr>\n",
       "      <th>829</th>\n",
       "      <td>1</td>\n",
       "      <td>1</td>\n",
       "      <td>female</td>\n",
       "      <td>62.0</td>\n",
       "    </tr>\n",
       "    <tr>\n",
       "      <th>879</th>\n",
       "      <td>1</td>\n",
       "      <td>1</td>\n",
       "      <td>female</td>\n",
       "      <td>56.0</td>\n",
       "    </tr>\n",
       "  </tbody>\n",
       "</table>\n",
       "</div>"
      ],
      "text/plain": [
       "     Survived  Pclass     Sex   Age\n",
       "11          1       1  female  58.0\n",
       "15          1       2  female  55.0\n",
       "195         1       1  female  58.0\n",
       "268         1       1  female  58.0\n",
       "275         1       1  female  63.0\n",
       "366         1       1  female  60.0\n",
       "483         1       3  female  63.0\n",
       "570         1       2    male  62.0\n",
       "587         1       1    male  60.0\n",
       "630         1       1    male  80.0\n",
       "647         1       1    male  56.0\n",
       "829         1       1  female  62.0\n",
       "879         1       1  female  56.0"
      ]
     },
     "execution_count": 455,
     "metadata": {},
     "output_type": "execute_result"
    }
   ],
   "source": [
    "# Sobrevivente Outliers com idade maior ou igual a 55\n",
    "df_titanic_s[df_titanic_s['Age'] >= 55]"
   ]
  },
  {
   "cell_type": "code",
   "execution_count": 456,
   "metadata": {},
   "outputs": [
    {
     "data": {
      "text/html": [
       "<div>\n",
       "<style scoped>\n",
       "    .dataframe tbody tr th:only-of-type {\n",
       "        vertical-align: middle;\n",
       "    }\n",
       "\n",
       "    .dataframe tbody tr th {\n",
       "        vertical-align: top;\n",
       "    }\n",
       "\n",
       "    .dataframe thead th {\n",
       "        text-align: right;\n",
       "    }\n",
       "</style>\n",
       "<table border=\"1\" class=\"dataframe\">\n",
       "  <thead>\n",
       "    <tr style=\"text-align: right;\">\n",
       "      <th></th>\n",
       "      <th>Survived</th>\n",
       "      <th>Pclass</th>\n",
       "      <th>Name</th>\n",
       "      <th>Sex</th>\n",
       "      <th>Age</th>\n",
       "      <th>SibSp</th>\n",
       "      <th>Parch</th>\n",
       "      <th>Ticket</th>\n",
       "      <th>Fare</th>\n",
       "      <th>Cabin</th>\n",
       "      <th>Embarked</th>\n",
       "    </tr>\n",
       "  </thead>\n",
       "  <tbody>\n",
       "    <tr>\n",
       "      <th>630</th>\n",
       "      <td>1</td>\n",
       "      <td>1</td>\n",
       "      <td>Barkworth, Mr. Algernon Henry Wilson</td>\n",
       "      <td>male</td>\n",
       "      <td>80.0</td>\n",
       "      <td>0</td>\n",
       "      <td>0</td>\n",
       "      <td>27042</td>\n",
       "      <td>30.0</td>\n",
       "      <td>A23</td>\n",
       "      <td>Southampton</td>\n",
       "    </tr>\n",
       "  </tbody>\n",
       "</table>\n",
       "</div>"
      ],
      "text/plain": [
       "     Survived  Pclass                                  Name   Sex   Age  \\\n",
       "630         1       1  Barkworth, Mr. Algernon Henry Wilson  male  80.0   \n",
       "\n",
       "     SibSp  Parch Ticket  Fare Cabin     Embarked  \n",
       "630      0      0  27042  30.0   A23  Southampton  "
      ]
     },
     "execution_count": 456,
     "metadata": {},
     "output_type": "execute_result"
    }
   ],
   "source": [
    "# Sobrevivente Outlier com idade maior ou igual a 80\n",
    "df_titanic[df_titanic['Age'] >= 80]"
   ]
  },
  {
   "cell_type": "markdown",
   "metadata": {},
   "source": [
    "***\n",
    "# Answering questions\n",
    "\n",
    "## Respondendo aos questionamentos de acordo com as conclusões tiradas\n",
    "\n",
    "#### Dentre os questionamentos propostos com este conjunto de dados, estas forma as respostas através das análises realizadas:\n",
    "\n",
    "1 - Quais foram os fatores que fizeram com que algumas pessoas mais propensas a sobreviver?    \n",
    "**R: Gênero e Classe**\n",
    "\n",
    "2 - Será que a classe mais alta teve mais chances de sobrevivência que a mais baixa?  \n",
    "**R: Sim, a 1.ª classe teve melhores chances de sobrevovência **\n",
    "\n",
    "3 - A proporção de sobrevivência da primeira classe foi superior em relação à segunda e a terceira classe?  \n",
    "**R: Sim **\n",
    "\n",
    "- Sobreviventes na 1.ª Classe = 136 (39.7%)\n",
    "- Sobreviventes na 2.ª Classe = 87 (25.4%)\n",
    "- Sobreviventes na 3.ª Classe = 119 (34.8%)\n",
    "\n",
    "4 - Há correlação direta entre os que sobreviveram e seus gêneros?  \n",
    "**R:  Sim, mulheres tiveram os melhores índices de sobrevivência**\n",
    "\n",
    "5 - Qual a proporção de sobreviventes e mortos por gênero?  \n",
    "**R: Homens: Sobreviveram 19% (109) e Morreram 81% (468) | Mulheres: Sobreviveram 74% (233) e Morreram 26% (81) **\n",
    "\n",
    "6 - Mulheres e crianças salvaram-se primeiro?  \n",
    "**R: Sim, as análises quantitativas por idade e gênero apontaram que a distribuição de sobreviventes foi bastante significativa entre 0 e pouco mais de 10 anos (entre meninos e meninas) e entre as mulheres **\n",
    "\n",
    "7 - Há correlação direta entre o valor pago na passagem e idade?  \n",
    "**R: Sim, as passagens mais caras foram adquiridas pelas faixas de idades entre 30-40 anos (cor amarela), e uma faixa de 20-50. Houveram gratuidades para idades com média de 32 anos **\n",
    "\n",
    "8 - Quem são os passageiros que não tiveram a tarifa cobrada? Eles sobreviveram?\n",
    "**R: ** 'Leonard, Mr. Lionel', 'Harrison, Mr. William', 'Tornquist, Mr. William Henry', 'Parkes, Mr. Francis \"Frank\"',\n",
    " 'Johnson, Mr. William Cahoone Jr', 'Cunningham, Mr. Alfred Fleming', 'Campbell, Mr. William', 'Frost, Mr. Anthony Wood \"Archie\"', 'Johnson, Mr. Alfred', 'Parr, Mr. William Henry Marsh', 'Watson, Mr. Ennis Hastings', 'Knight, Mr. Robert J', 'Andrews, Mr. Thomas Jr', 'Fry, Mr. Richard', 'Reuchlin, Jonkheer. John George'. ** Mr. William Henry Tornquist foi o único sobrevivente que não pagou tarifa. **"
   ]
  },
  {
   "cell_type": "markdown",
   "metadata": {},
   "source": [
    "## Quais conclusões podemos tirar no naufrágio do Titanic?"
   ]
  },
  {
   "cell_type": "markdown",
   "metadata": {},
   "source": [
    "Uma das razões pelas quais o naufrágio causou tal perda de vidas foi que não havia botes salva-vidas suficientes para os passageiros e a tripulação. Embora houvesse algum elemento de sorte envolvido na sobrevivência do naufrágio, alguns grupos de pessoas tinham maior probabilidade de sobreviver do que outros, como mulheres, crianças e a classe alta.\n",
    "\n",
    "### Conclusões\n",
    "\n",
    "De acordo com a análise dos dados realizada, nota-se claramente que os passageiros das classes superiores foram privilegiados no momento de embarcarem nos botes salva vidas. \n",
    "\n",
    "- 67.7% dos mortos era da 3.ª classe, enquanto 17.6% da 2.ª classe e 14.5% da 1.ª classe;\n",
    "- A idade média de sobreviventes era de 28.5 anos;\n",
    "- Apenas 38.3% de passageiros sobreviveram ao naufrágio, sendo a maioria mulheres (26.2%).\n",
    "\n",
    "### Limitações\n",
    "\n",
    "Existiram fatores limitantes para a análise de algumas características, pois algumas propriedades não possuíam valores para alguns passageiros. As características afetadas e usadas na análise são: `Age` e `Embarked`\n",
    "\n",
    "- Medida tomada:\n",
    "  - **_Age_**: Os valore faltantes desta característica foram preenchidos com base na idade média dos passageiros, o que pode afetar os resultados da análises que envolvem idades;\n",
    "  - **_Embarked_**: O local do embarque foi ajustado com base na estatística por selecionar um dos locais de embarque de maior frequencia (moda).\n",
    "\n",
    "- Ajustou-se os nomes dos portos de embarque da característica `Embarked` para melhor legibilidade:  C=Cherbourg, Q=Queenstown e S=Southampton."
   ]
  },
  {
   "cell_type": "markdown",
   "metadata": {},
   "source": [
    "### Referências\n",
    "\n",
    "Stackoverflow [https://stackoverflow.com/]  \n",
    "Matplotlib [https://matplotlib.org/]  \n",
    "Pandas [https://pandas.pydata.org/]  \n",
    "\n",
    "##### Links\n",
    "\n",
    "https://www.kaggle.com/c/titanic/data#  \n",
    "https://paulovasconcellos.com.br/o-que-o-naufr%C3%A1gio-do-titanic-nos-ensina-at%C3%A9-hoje-data-science-project-2fea8ff1c9b5  \n",
    "https://github.com/paulozip/naufragio-titanic  \n",
    "https://github.com/pandas-dev/pandas/issues/10611  \n",
    "https://www.youtube.com/watch?v=LKESQMPe7nI  \n",
    "https://www.youtube.com/watch?v=3eTSVGY_fIE  \n",
    "http://felipegalvao.com.br/blog/2016/03/08/visualizacao-de-dados-com-python-matplotlib/  \n",
    "https://jakevdp.github.io/PythonDataScienceHandbook/04.02-simple-scatter-plots.html  \n",
    "https://www.kaggle.com/c/titanic  \n",
    "https://github.com/adam-p/markdown-here/wiki/Markdown-Cheatsheet  \n",
    "\n",
    "### Bibliografia\n",
    "Data Science do Zero - Grus - O'Reilly  \n",
    "Python para Análise de Dados - McKinney - O'Reilly | novatec"
   ]
  }
 ],
 "metadata": {
  "kernelspec": {
   "display_name": "Python 3",
   "language": "python",
   "name": "python3"
  },
  "language_info": {
   "codemirror_mode": {
    "name": "ipython",
    "version": 3
   },
   "file_extension": ".py",
   "mimetype": "text/x-python",
   "name": "python",
   "nbconvert_exporter": "python",
   "pygments_lexer": "ipython3",
   "version": "3.6.4"
  }
 },
 "nbformat": 4,
 "nbformat_minor": 2
}
